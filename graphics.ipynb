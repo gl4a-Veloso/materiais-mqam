{
 "cells": [
  {
   "cell_type": "code",
   "execution_count": null,
   "id": "fdde459f",
   "metadata": {},
   "outputs": [],
   "source": [
    "import numpy as np\n",
    "import pandas as pd\n",
    "import matplotlib.pyplot as plt\n",
    "import seaborn as sns\n",
    "\n",
    "sns.set_theme(style=\"whitegrid\", palette=\"muted\", font_scale=1.1)"
   ]
  },
  {
   "cell_type": "markdown",
   "id": "4b2e9865",
   "metadata": {},
   "source": [
    "Importando base de dados"
   ]
  },
  {
   "cell_type": "code",
   "execution_count": null,
   "id": "579792bf",
   "metadata": {},
   "outputs": [],
   "source": [
    "df_students = pd.read_csv(\"student-db/student-final.csv\")\n",
    "display(df_students)"
   ]
  },
  {
   "cell_type": "markdown",
   "id": "658d29f5",
   "metadata": {},
   "source": [
    "Tabela de medidas de tendência central e disperção"
   ]
  },
  {
   "cell_type": "code",
   "execution_count": null,
   "id": "e69066c1",
   "metadata": {},
   "outputs": [],
   "source": [
    "def descritive_measures(df:pd.DataFrame):    \n",
    "    numeric_cols = [\"failures_mat\", \"failures_por\", \"absences_mat\", \"absences_por\",  \"G1_mat\", \"G1_por\", \"G2_mat\", \"G2_por\", \"G3_mat\", \"G3_por\"]\n",
    "    numeric_df = df[numeric_cols]\n",
    "\n",
    "    # Medidas de tendência central\n",
    "    description = pd.DataFrame({\n",
    "        \"Média\": numeric_df.mean(),\n",
    "        \"Mediana\": numeric_df.median(),\n",
    "        \"Moda\": numeric_df.mode().iloc[0],\n",
    "        \"Variância\": numeric_df.var(),\n",
    "        \"Desvio Padrão\": numeric_df.std(),\n",
    "        \"Amplitude\": numeric_df.max() - numeric_df.min()\n",
    "    })\n",
    "\n",
    "    return description\n",
    "\n",
    "description = descritive_measures(df_students)\n",
    "print(\"Medidas Descritivas\")\n",
    "display(description)\n"
   ]
  },
  {
   "cell_type": "markdown",
   "id": "8d32e454",
   "metadata": {},
   "source": [
    "Histogramas"
   ]
  },
  {
   "cell_type": "code",
   "execution_count": null,
   "id": "c3f3dfcd",
   "metadata": {},
   "outputs": [],
   "source": [
    "def plot_histogram(df:pd.DataFrame, col:str):\n",
    "    plt.figure(figsize=(6,4))\n",
    "    sns.histplot(df[col], kde=True, bins=15)\n",
    "    plt.title(f\"Histograma de {col}\")\n",
    "    plt.xlabel(col)\n",
    "    plt.ylabel(\"Frequência\")\n",
    "    plt.show()\n",
    "\n",
    "plot_histogram(df_students, \"absences_mat\")\n",
    "plot_histogram(df_students, \"absences_por\")\n",
    "plot_histogram(df_students, \"G1_por\")\n",
    "plot_histogram(df_students, \"G2_por\")\n",
    "plot_histogram(df_students, \"G3_por\")\n",
    "plot_histogram(df_students, \"G1_mat\")\n",
    "plot_histogram(df_students, \"G2_mat\")\n",
    "plot_histogram(df_students, \"G3_mat\")"
   ]
  },
  {
   "cell_type": "markdown",
   "id": "916cac4f",
   "metadata": {},
   "source": [
    "Boxplots de variáveis categóricas por nota"
   ]
  },
  {
   "cell_type": "code",
   "execution_count": null,
   "id": "40fffb60",
   "metadata": {},
   "outputs": [],
   "source": [
    "def plot_boxplot_all_exams(df: pd.DataFrame, group_col: str):\n",
    "    grade_cols = [\"G1_mat\", \"G2_mat\", \"G3_mat\", \"G1_por\", \"G2_por\", \"G3_por\"]\n",
    "    df_melted = df.melt(id_vars=[group_col], value_vars=grade_cols, var_name=\"Exam\", value_name=\"Grade\")\n",
    "\n",
    "    plt.figure(figsize=(10,6))\n",
    "    sns.boxplot(x=\"Exam\", y=\"Grade\", hue=group_col, data=df_melted)\n",
    "    plt.title(f\"Grades x {group_col}\")\n",
    "    plt.legend(title=group_col, loc=\"upper center\", bbox_to_anchor=(0.5, -0.12), ncol=3)\n",
    "    plt.show()\n",
    "\n",
    "plot_boxplot_all_exams(df_students, \"sex\")\n",
    "plot_boxplot_all_exams(df_students, \"studytime\")\n",
    "plot_boxplot_all_exams(df_students, \"reason\")\n",
    "plot_boxplot_all_exams(df_students, \"higher\")\n",
    "plot_boxplot_all_exams(df_students, \"paid_mat\")\n",
    "plot_boxplot_all_exams(df_students, \"paid_por\")"
   ]
  },
  {
   "cell_type": "markdown",
   "id": "929edb95",
   "metadata": {},
   "source": [
    "Gráficos de dispersão entre notas"
   ]
  },
  {
   "cell_type": "code",
   "execution_count": null,
   "id": "abfdd157",
   "metadata": {},
   "outputs": [],
   "source": [
    "def plot_scatterplot_simple(df:pd.DataFrame, x:str, y:str):\n",
    "    plt.figure(figsize=(5,5))\n",
    "    sns.scatterplot(x=x, y=y, data=df)\n",
    "    plt.title(f\"{y} x {x}\")\n",
    "    plt.show()\n",
    "\n",
    "plot_scatterplot_simple(df_students, \"G1_mat\", \"G2_mat\")\n",
    "plot_scatterplot_simple(df_students, \"G1_mat\", \"G3_mat\")\n",
    "plot_scatterplot_simple(df_students, \"G2_mat\", \"G3_mat\")\n",
    "plot_scatterplot_simple(df_students, \"G1_por\", \"G2_por\")\n",
    "plot_scatterplot_simple(df_students, \"G1_por\", \"G3_por\")\n",
    "plot_scatterplot_simple(df_students, \"G2_por\", \"G3_por\")\n",
    "plot_scatterplot_simple(df_students, \"G1_mat\", \"G1_por\")\n",
    "plot_scatterplot_simple(df_students, \"G2_mat\", \"G2_por\")\n",
    "plot_scatterplot_simple(df_students, \"G3_mat\", \"G3_por\")"
   ]
  },
  {
   "cell_type": "markdown",
   "id": "f76aefcb",
   "metadata": {},
   "source": [
    "Gráficos de dispersão de notas por faltas"
   ]
  },
  {
   "cell_type": "code",
   "execution_count": null,
   "id": "adbfa67b",
   "metadata": {},
   "outputs": [],
   "source": [
    "def plot_scatterplot_all_math(df: pd.DataFrame, x: str):\n",
    "    grade_cols = [\"G1_mat\", \"G2_mat\", \"G3_mat\"]\n",
    "    df_melted = df.melt(id_vars=[x], value_vars=grade_cols, var_name=\"Exam\", value_name=\"Grade\")\n",
    "\n",
    "    plt.figure(figsize=(7,5))\n",
    "    sns.scatterplot(x=x, y=\"Grade\", hue=\"Exam\", data=df_melted, palette=\"Set1\")\n",
    "    plt.title(f\"Math grade x {x}\")\n",
    "    plt.legend(title=\"Exam\")\n",
    "    plt.show()\n",
    "\n",
    "def plot_scatterplot_all_portuguese(df: pd.DataFrame, x: str):\n",
    "    grade_cols = [\"G1_por\", \"G2_por\", \"G3_por\"]\n",
    "    df_melted = df.melt(id_vars=[x], value_vars=grade_cols, var_name=\"Exam\", value_name=\"Grade\")\n",
    "\n",
    "    plt.figure(figsize=(7,5))\n",
    "    sns.scatterplot(x=x, y=\"Grade\", hue=\"Exam\", data=df_melted, palette=\"Set1\")\n",
    "    plt.title(f\"Portuguese grade x {x}\")\n",
    "    plt.legend(title=\"Exam\")\n",
    "    plt.show()\n",
    "\n",
    "plot_scatterplot_all_math(df_students, \"absences_mat\")\n",
    "plot_scatterplot_all_portuguese(df_students, \"absences_por\")\n",
    "plot_scatterplot_all_math(df_students, \"failures_mat\")\n",
    "plot_scatterplot_all_portuguese(df_students, \"failures_por\")\n"
   ]
  }
 ],
 "metadata": {
  "kernelspec": {
   "display_name": "Python 3",
   "language": "python",
   "name": "python3"
  },
  "language_info": {
   "codemirror_mode": {
    "name": "ipython",
    "version": 3
   },
   "file_extension": ".py",
   "mimetype": "text/x-python",
   "name": "python",
   "nbconvert_exporter": "python",
   "pygments_lexer": "ipython3",
   "version": "3.11.2"
  }
 },
 "nbformat": 4,
 "nbformat_minor": 5
}
