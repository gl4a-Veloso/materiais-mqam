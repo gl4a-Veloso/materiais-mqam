{
 "cells": [
  {
   "cell_type": "markdown",
   "id": "24e161c2",
   "metadata": {},
   "source": [
    "Importando bibliotecas e módulos"
   ]
  },
  {
   "cell_type": "code",
   "execution_count": null,
   "id": "11248cef",
   "metadata": {},
   "outputs": [],
   "source": [
    "import pandas as pd\n",
    "from scipy.stats import kstest, jarque_bera"
   ]
  },
  {
   "cell_type": "markdown",
   "id": "79f98714",
   "metadata": {},
   "source": [
    "Importando dataset em data frame"
   ]
  },
  {
   "cell_type": "code",
   "execution_count": null,
   "id": "d4a3441c",
   "metadata": {},
   "outputs": [],
   "source": [
    "df = pd.read_csv(\"databases/ENEM_2023_FINAL.csv\")\n",
    "display(df)"
   ]
  },
  {
   "cell_type": "markdown",
   "id": "947de54c",
   "metadata": {},
   "source": [
    "Gerando tabela de medidas descritivas"
   ]
  },
  {
   "cell_type": "code",
   "execution_count": null,
   "id": "f4f88427",
   "metadata": {},
   "outputs": [],
   "source": [
    "def col_descritive_measures(df:pd.DataFrame, col:str):\n",
    "    return {\n",
    "        \"COLUNA\": col,\n",
    "        \"MÉDIA\": df[col].mean(),\n",
    "        \"VARIÂNCIA\": df[col].var(),\n",
    "        \"DESVIO PADRÃO\": df[col].std(),\n",
    "        \"CV\": df[col].std()/df[col].mean(),\n",
    "        \"1º QUARTIL\": df[col].quantile(0.25),\n",
    "        \"MEDIANA\": df[col].quantile(0.5),\n",
    "        \"3º QUARTIL\": df[col].quantile(0.75)\n",
    "    }\n",
    "\n",
    "def descritive_measures(df:pd.DataFrame):    \n",
    "    numeric_cols = [\"NU_NOTA_CH\", \"NU_NOTA_CN\", \"NU_NOTA_LC\", \"NU_NOTA_MT\", \"NU_NOTA_REDACAO\", \"EST_IDADE\", \"EST_RENDA_PER_CAP\", \"EST_VEICULO_PER_CAP\",\t\"EST_CELULAR_PER_CAP\", \"EST_COMP_PER_CAP\", \"EST_ELE_DOM_PER_CAP\"]\n",
    "    results = [col_descritive_measures(df, col) for col in numeric_cols]\n",
    "\n",
    "    return pd.DataFrame(results)\n",
    "\n",
    "df = pd.read_csv(\"databases/ENEM_2023_FINAL.csv\")\n",
    "descritive = descritive_measures(df)\n",
    "\n",
    "display(descritive)"
   ]
  },
  {
   "cell_type": "markdown",
   "id": "6df1ab4d",
   "metadata": {},
   "source": [
    "Gerando tabelas com testes de normalidade"
   ]
  },
  {
   "cell_type": "code",
   "execution_count": null,
   "id": "2eeefca2",
   "metadata": {},
   "outputs": [],
   "source": [
    "def ks_p_value(df:pd.DataFrame, col:str):\n",
    "    serie = df[col]\n",
    "    stat, p_value = kstest(serie, 'norm', args=(serie.mean(), serie.std(ddof=1)))\n",
    "    return p_value\n",
    "\n",
    "def jb_p_value(df:pd.DataFrame, col:str):\n",
    "    serie = df[col]\n",
    "    stat, p_value = jarque_bera(serie)\n",
    "    return p_value\n",
    "\n",
    "def number_of_inf_outliers(df:pd.DataFrame, col:str):\n",
    "    Q1 = df[col].quantile(0.25)\n",
    "    Q3 = df[col].quantile(0.75)\n",
    "    inf = Q1 - 1.5 * (Q3 - Q1)\n",
    "    return df[df[col] < inf].shape[0]\n",
    "\n",
    "def number_of_sup_outliers(df:pd.DataFrame, col:str):\n",
    "    Q1 = df[col].quantile(0.25)\n",
    "    Q3 = df[col].quantile(0.75)\n",
    "    sup = Q3 + 1.5 * (Q3 - Q1)\n",
    "    return df[df[col] > sup].shape[0]\n",
    "\n",
    "def col_normal_measures(df:pd.DataFrame, col:str):\n",
    "    return {\n",
    "        \"COLUNA\": col,\n",
    "        \"P-VALUE (KS)\": ks_p_value(df, col),\n",
    "        \"P-VALUE (JB)\": jb_p_value(df, col),\n",
    "        \"INF. OUTLIERS\": number_of_inf_outliers(df, col),\n",
    "        \"SUP. OUTLIERS\": number_of_sup_outliers(df, col)\n",
    "    }\n",
    "\n",
    "def normal_measures(df:pd.DataFrame):\n",
    "    numeric_cols = [\"NU_NOTA_CH\", \"NU_NOTA_CN\", \"NU_NOTA_LC\", \"NU_NOTA_MT\", \"NU_NOTA_REDACAO\", \"EST_IDADE\", \"EST_RENDA_PER_CAP\", \"EST_VEICULO_PER_CAP\",\t\"EST_CELULAR_PER_CAP\", \"EST_COMP_PER_CAP\", \"EST_ELE_DOM_PER_CAP\"]\n",
    "    results = [col_normal_measures(df, col) for col in numeric_cols]\n",
    "\n",
    "    return pd.DataFrame(results)\n",
    "\n",
    "df = pd.read_csv(\"databases/ENEM_2023_FINAL.csv\")\n",
    "normal = normal_measures(df)\n",
    "\n",
    "display(normal)"
   ]
  }
 ],
 "metadata": {
  "kernelspec": {
   "display_name": "Python 3",
   "language": "python",
   "name": "python3"
  },
  "language_info": {
   "codemirror_mode": {
    "name": "ipython",
    "version": 3
   },
   "file_extension": ".py",
   "mimetype": "text/x-python",
   "name": "python",
   "nbconvert_exporter": "python",
   "pygments_lexer": "ipython3",
   "version": "3.11.2"
  }
 },
 "nbformat": 4,
 "nbformat_minor": 5
}
