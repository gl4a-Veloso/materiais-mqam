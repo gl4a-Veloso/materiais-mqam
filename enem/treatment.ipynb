{
 "cells": [
  {
   "cell_type": "markdown",
   "id": "4bff5458",
   "metadata": {},
   "source": [
    "Importar Bibliotecas"
   ]
  },
  {
   "cell_type": "code",
   "execution_count": null,
   "id": "8d7de340",
   "metadata": {},
   "outputs": [],
   "source": [
    "import pandas as pd\n",
    "import numpy as np"
   ]
  },
  {
   "cell_type": "markdown",
   "id": "df5b477a",
   "metadata": {},
   "source": [
    "Importar base de dados original"
   ]
  },
  {
   "cell_type": "code",
   "execution_count": null,
   "id": "a0e52197",
   "metadata": {},
   "outputs": [],
   "source": [
    "path = \"databases/MICRODADOS_ENEM_2023.csv\" # 1.735 GB (Excluído)\n",
    "try:\n",
    "    df = pd.read_csv(path, sep=\";\", encoding=\"latin-1\", low_memory=False)\n",
    "    display(df) # 3933955 rows × 76 columns (3m 19.3s)\n",
    "except:\n",
    "    print(f\"Arquivo {path} não encontrado.\")\n",
    "    df = pd.read_csv(\"databases/ENEM_2023_SP_1.csv\")"
   ]
  },
  {
   "cell_type": "markdown",
   "id": "8c6b6366",
   "metadata": {},
   "source": [
    "Filtrando estudantes da cidade de São Paulo, que não são treineros e não faltaram ou foram eliminados em nenhuma prova."
   ]
  },
  {
   "cell_type": "code",
   "execution_count": null,
   "id": "4914cf86",
   "metadata": {},
   "outputs": [],
   "source": [
    "def filter_sp_students(df:pd.DataFrame):\n",
    "    filter = (\n",
    "        (df[\"NO_MUNICIPIO_ESC\"] == \"São Paulo\") & # Estudou na cidade de São Paulo \n",
    "        (df[\"IN_TREINEIRO\"] == 0) &               # Não é treineiro\n",
    "        (df[\"TP_PRESENCA_CH\"] == 1) &             # Não faltou, nem foi eliminado da prova\n",
    "        (df[\"TP_PRESENCA_CN\"] == 1) &             # Não faltou, nem foi eliminado da prova\n",
    "        (df[\"TP_PRESENCA_LC\"] == 1) &             # Não faltou, nem foi eliminado da prova\n",
    "        (df[\"TP_PRESENCA_MT\"] == 1)               # Não faltou, nem foi eliminado da prova\n",
    "    )\n",
    "    return df[filter]\n",
    "\n",
    "df = filter_sp_students(df) \n",
    "df.to_csv(\"databases/ENEM_2023_SP_1.csv\", index=False)\n",
    "\n",
    "display(df) # 35416 rows × 76 columns"
   ]
  },
  {
   "cell_type": "markdown",
   "id": "e97b55ff",
   "metadata": {},
   "source": [
    "Excluindo colunas \"desnecessárias\", mas mantendo aquelas que serão utilizadas para calcular outros campos. Também feita a renomeação de algumas colunas."
   ]
  },
  {
   "cell_type": "code",
   "execution_count": null,
   "id": "28daf817",
   "metadata": {},
   "outputs": [],
   "source": [
    "def filter_columns(df:pd.DataFrame):\n",
    "    cols = [\"TP_FAIXA_ETARIA\", \"TP_SEXO\", \"TP_COR_RACA\", \"TP_ENSINO\", \"TP_DEPENDENCIA_ADM_ESC\", \"NU_NOTA_CH\", \"NU_NOTA_CN\", \"NU_NOTA_MT\", \"NU_NOTA_LC\", \"NU_NOTA_REDACAO\", \"Q001\", \"Q002\", \"Q005\", \"Q006\", \"Q010\", \"Q011\", \"Q022\", \"Q024\", \"Q025\"]\n",
    "    df = df[cols]\n",
    "\n",
    "    rename_dict = {\n",
    "        \"Q001\": \"ESCOLARIDADE_PAI\",\n",
    "        \"Q002\": \"ESCOLARIDADE_MAE\",\n",
    "        \"Q005\": \"N_PESSOAS_CASA\",\n",
    "        \"Q006\": \"RENDA_MENSAL_CASA\",\n",
    "        \"Q010\": \"N_CARRO_CASA\",\n",
    "        \"Q011\": \"N_MOTO_CASA\",\n",
    "        \"Q022\": \"N_CELULAR_CASA\",\n",
    "        \"Q024\": \"N_COMP_CASA\",\n",
    "        \"Q025\": \"INTERNET_CASA\"\n",
    "    }\n",
    "\n",
    "    return df.rename(columns=rename_dict)\n",
    "\n",
    "df = pd.read_csv(\"databases/ENEM_2023_SP_1.csv\")\n",
    "df = filter_columns(df)\n",
    "df.to_csv(\"databases/ENEM_2023_SP_2.csv\", index=False)\n",
    "\n",
    "display(df) # 35416 rows × 20 columns"
   ]
  },
  {
   "cell_type": "markdown",
   "id": "ff92e445",
   "metadata": {},
   "source": [
    "Sequência de value counts para observar proporções de certas categorias na amostra."
   ]
  },
  {
   "cell_type": "code",
   "execution_count": null,
   "id": "1919ea4e",
   "metadata": {},
   "outputs": [],
   "source": [
    "def all_value_counts(df:pd.DataFrame):\n",
    "    categoric_cols = [\"TP_FAIXA_ETARIA\", \"TP_SEXO\", \"TP_COR_RACA\", \"TP_ENSINO\", \"TP_DEPENDENCIA_ADM_ESC\", \"ESCOLARIDADE_PAI\", \"ESCOLARIDADE_MAE\", \"N_PESSOAS_CASA\", \"RENDA_MENSAL_CASA\", \"N_CARRO_CASA\", \"N_MOTO_CASA\", \"N_CELULAR_CASA\", \"N_COMP_CASA\", \"INTERNET_CASA\"]\n",
    "    for col in categoric_cols:\n",
    "        print(df[col].value_counts(dropna=False))\n",
    "        print()\n",
    "\n",
    "df = pd.read_csv(\"databases/ENEM_2023_SP_2.csv\")\n",
    "all_value_counts(df)"
   ]
  },
  {
   "cell_type": "code",
   "execution_count": null,
   "id": "3c488735",
   "metadata": {},
   "outputs": [],
   "source": [
    "def drop_not_available_data(df:pd.DataFrame):\n",
    "    filter = (\n",
    "        (df[\"TP_COR_RACA\"] == 0) |\n",
    "        (df[\"TP_COR_RACA\"] == 6) |\n",
    "        (df[\"TP_ENSINO\"] != 1.0) |\n",
    "        (df[\"ESCOLARIDADE_MAE\"] == \"H\") | \n",
    "        (df[\"ESCOLARIDADE_PAI\"] == \"H\")\n",
    "    )\n",
    "\n",
    "    df = df.drop(columns=[\"TP_ENSINO\"])\n",
    "    return df.loc[~filter].reset_index(drop=True)\n",
    "\n",
    "df = pd.read_csv(\"databases/ENEM_2023_SP_2.csv\")\n",
    "df = drop_not_available_data(df)\n",
    "df.to_csv(\"databases/ENEM_2023_SP_3.csv\", index=False)\n",
    "\n",
    "display(df) # 31731 rows × 19 columns (3703 linhas escluídas)"
   ]
  },
  {
   "cell_type": "markdown",
   "id": "e8b77ffc",
   "metadata": {},
   "source": [
    "Obtendo colunas de estimação para renda e faixa etária, além de outra para indicar se a família possui ou não veículo próprio."
   ]
  },
  {
   "cell_type": "code",
   "execution_count": null,
   "id": "8c9a2794",
   "metadata": {},
   "outputs": [],
   "source": [
    "def create_estimative_and_simplified_columns(df:pd.DataFrame):\n",
    "    map_renda = {\n",
    "        \"A\": 0,                       # Nenhuma renda\n",
    "        \"B\": (0 + 1320)/2,            # Até 1320 (médio = 660)\n",
    "        \"C\": (1320.01 + 1980)/2,      # 1650\n",
    "        \"D\": (1980.01 + 2640)/2,      # 2310\n",
    "        \"E\": (2640.01 + 3300)/2,      # 2970\n",
    "        \"F\": (3300.01 + 3960)/2,      # 3630\n",
    "        \"G\": (3960.01 + 5280)/2,      # 4620\n",
    "        \"H\": (5280.01 + 6600)/2,      # 5940\n",
    "        \"I\": (6600.01 + 7920)/2,      # 7260\n",
    "        \"J\": (7920.01 + 9240)/2,      # 8580\n",
    "        \"K\": (9240.01 + 10560)/2,     # 9900\n",
    "        \"L\": (10560.01 + 11880)/2,    # 11220\n",
    "        \"M\": (11880.01 + 13200)/2,    # 12540\n",
    "        \"N\": (13200.01 + 15840)/2,    # 14520\n",
    "        \"O\": (15840.01 + 19800)/2,    # 17820\n",
    "        \"P\": (19800.01 + 26400)/2,    # 23100\n",
    "        \"Q\": (26400.01 + 33000)/2     # Arbitrário, assume R$ 33000 pois é a mesma distância do intervalo anterior\n",
    "    }\n",
    "    map_idade = {\n",
    "        1: 16,               # Menor de 17 anos -> assume 16\n",
    "        2: 17,\n",
    "        3: 18,\n",
    "        4: 19,\n",
    "        5: 20,\n",
    "        6: 21,\n",
    "        7: 22,\n",
    "        8: 23,\n",
    "        9: 24,\n",
    "        10: 25,\n",
    "        11: (26 + 30)/2,   # 28\n",
    "        12: (31 + 35)/2,   # 33\n",
    "        13: (36 + 40)/2,   # 38\n",
    "        14: (41 + 45)/2,   # 43\n",
    "        15: (46 + 50)/2,   # 48\n",
    "        16: (51 + 55)/2,   # 53\n",
    "        17: (56 + 60)/2,   # 58\n",
    "        18: (61 + 65)/2,   # 63\n",
    "        19: (66 + 70)/2,   # 68\n",
    "        20: (71 + 75)/2    # Maior de 70 anos\n",
    "    }\n",
    "\n",
    "    df[\"EST_RENDA_PER_CAP\"] = (df[\"RENDA_MENSAL_CASA\"].map(map_renda))/df[\"N_PESSOAS_CASA\"]\n",
    "    df[\"EST_IDADE\"] = df[\"TP_FAIXA_ETARIA\"].map(map_idade)\n",
    "    df[\"VEICULO_PROPRIO_FAM\"] = (df[\"N_CARRO_CASA\"] != \"A\") | (df[\"N_CARRO_CASA\"] != \"A\")\n",
    "\n",
    "    return df.drop(columns=[\"RENDA_MENSAL_CASA\", \"N_PESSOAS_CASA\", \"TP_FAIXA_ETARIA\", \"N_CARRO_CASA\", \"N_MOTO_CASA\"])\n",
    "\n",
    "df = pd.read_csv(\"databases/ENEM_2023_SP_3.csv\")\n",
    "df = create_estimative_and_simplified_columns(df)\n",
    "df.to_csv(\"databases/ENEM_2023_SP_4.csv\", index=False)\n",
    "\n",
    "display(df) # 31731 rows × 16 columns"
   ]
  }
 ],
 "metadata": {
  "kernelspec": {
   "display_name": "Python 3",
   "language": "python",
   "name": "python3"
  },
  "language_info": {
   "codemirror_mode": {
    "name": "ipython",
    "version": 3
   },
   "file_extension": ".py",
   "mimetype": "text/x-python",
   "name": "python",
   "nbconvert_exporter": "python",
   "pygments_lexer": "ipython3",
   "version": "3.11.2"
  }
 },
 "nbformat": 4,
 "nbformat_minor": 5
}
