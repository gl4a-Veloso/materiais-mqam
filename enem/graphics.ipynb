{
 "cells": [
  {
   "cell_type": "code",
   "execution_count": null,
   "id": "159f1495",
   "metadata": {},
   "outputs": [],
   "source": [
    "import pandas as pd\n",
    "import matplotlib.pyplot as plt\n",
    "import seaborn as sns\n",
    "\n",
    "sns.set_theme(style=\"whitegrid\", palette=\"muted\", font_scale=1.1)\n",
    "custom_palette = [\n",
    "    \"#D9ED92\",  # verde claro amarelado\n",
    "    \"#B5E48C\",  # verde claro\n",
    "    \"#99D98C\",  # verde médio\n",
    "    \"#76C893\",  # verde esverdeado\n",
    "    \"#52B69A\",  # verde-água\n",
    "    \"#34A0A4\",  # verde-azulado\n",
    "    \"#168AAD\",  # azul esverdeado\n",
    "    \"#1A759F\",  # azul médio\n",
    "    \"#1E6091\",  # azul escuro\n",
    "    \"#184E77\",  # azul bem escuro\n",
    "    \"#134770\"   # azul mais\n",
    "]\n",
    "plt.style.use(\"dark_background\")\n",
    "# exam_palette = [\"#FFFF00\", \"#99D98C\", \"#1A759F\"]"
   ]
  },
  {
   "cell_type": "markdown",
   "id": "1dd7541c",
   "metadata": {},
   "source": [
    "Importando base de dados "
   ]
  },
  {
   "cell_type": "code",
   "execution_count": null,
   "id": "5818cdba",
   "metadata": {},
   "outputs": [],
   "source": [
    "df_enem = pd.read_csv(\"databases/ENEM_2023_FINAL.csv\")\n",
    "display(df_enem)"
   ]
  },
  {
   "cell_type": "markdown",
   "id": "71a59937",
   "metadata": {},
   "source": [
    "Definição dos títulos dos eixos para cada variável"
   ]
  },
  {
   "cell_type": "code",
   "execution_count": null,
   "id": "e42a7ac2",
   "metadata": {},
   "outputs": [],
   "source": [
    "titles_dict = {\n",
    "    \"NU_NOTA_CH\": {\n",
    "        \"title\": \"Distribuição da Nota de Ciências Humanas\",\n",
    "        \"xlabel\": \"Nota em Ciências Humanas\",\n",
    "        \"ylabel\": \"Frequência\"\n",
    "    },\n",
    "    \"NU_NOTA_CN\": {\n",
    "        \"title\": \"Distribuição da Nota de Ciências da Natureza\",\n",
    "        \"xlabel\": \"Nota em Ciências da Natureza\",\n",
    "        \"ylabel\": \"Frequência\"\n",
    "    },\n",
    "    \"NU_NOTA_MT\": {\n",
    "        \"title\": \"Distribuição da Nota de Matemática\",\n",
    "        \"xlabel\": \"Nota em Matemática\",\n",
    "        \"ylabel\": \"Frequência\"\n",
    "    },\n",
    "    \"NU_NOTA_LC\": {\n",
    "        \"title\": \"Distribuição da Nota de Linguagens e Códigos\",\n",
    "        \"xlabel\": \"Nota em Linguagens e Códigos\",\n",
    "        \"ylabel\": \"Frequência\"\n",
    "    },\n",
    "    \"NU_NOTA_REDACAO\": {\n",
    "        \"title\": \"Distribuição da Nota de Redação\",\n",
    "        \"xlabel\": \"Nota de Redação\",\n",
    "        \"ylabel\": \"Frequência\"\n",
    "    },\n",
    "    \"EST_IDADE\": {\n",
    "        \"title\": \"Distribuição da Idade dos Participantes\",\n",
    "        \"xlabel\": \"Idade (anos)\",\n",
    "        \"ylabel\": \"Frequência\"\n",
    "    },\n",
    "    \"EST_RENDA_PER_CAP\": {\n",
    "        \"title\": \"Distribuição da Renda Familiar Per Capita\",\n",
    "        \"xlabel\": \"Renda per capita (R$)\",\n",
    "        \"ylabel\": \"Frequência\"\n",
    "    },\n",
    "    \"EST_CELULAR_PER_CAP\": {\n",
    "        \"title\": \"Distribuição de Celulares por Pessoa\",\n",
    "        \"xlabel\": \"Número de celulares por pessoa\",\n",
    "        \"ylabel\": \"Frequência\"\n",
    "    },\n",
    "    \"EST_COMP_PER_CAP\": {\n",
    "        \"title\": \"Distribuição de Computadores por Pessoa\",\n",
    "        \"xlabel\": \"Número de computadores por pessoa\",\n",
    "        \"ylabel\": \"Frequência\"\n",
    "    },\n",
    "    \"EST_VEICULO_PER_CAP\": {\n",
    "        \"title\": \"Distribuição de Veículos por Pessoa\",\n",
    "        \"xlabel\": \"Número de veículos por pessoa\",\n",
    "        \"ylabel\": \"Frequência\"\n",
    "    },\n",
    "    \"EST_ELE_DOM_PER_CAP\": {\n",
    "        \"title\": \"Distribuição de Eletrodomésticos por Pessoa\",\n",
    "        \"xlabel\": \"Número de eletrodomésticos por pessoa\",\n",
    "        \"ylabel\": \"Frequência\"\n",
    "    }\n",
    "}"
   ]
  },
  {
   "cell_type": "markdown",
   "id": "b95f7a6b",
   "metadata": {},
   "source": [
    "Boxplots"
   ]
  },
  {
   "cell_type": "code",
   "execution_count": null,
   "id": "f7516d92",
   "metadata": {},
   "outputs": [],
   "source": [
    "grade_cols = [\"NU_NOTA_CH\", \"NU_NOTA_CN\", \"NU_NOTA_MT\", \"NU_NOTA_LC\", \"NU_NOTA_REDACAO\", \"EST_IDADE\", \"EST_RENDA_PER_CAP\", \"EST_CELULAR_PER_CAP\",\"EST_COMP_PER_CAP\", \"EST_VEICULO_PER_CAP\", \"EST_ELE_DOM_PER_CAP\"]\n",
    "\n",
    "def plot_single_boxplots(df: pd.DataFrame, cols: list, colors: list, titles:dict):\n",
    "    for col, color in zip(cols, colors):\n",
    "        plt.figure(figsize=(6,4))\n",
    "        sns.boxplot(x=df[col], color=color)   # só uma nota por vez\n",
    "        plt.title(titles[col][\"title\"])\n",
    "        plt.xlabel(titles[col][\"xlabel\"])\n",
    "\n",
    "        #Tornar fundo transparente\n",
    "        # plt.gca().set_facecolor(\"none\")  # Fundo do gráfico\n",
    "        # plt.gcf().patch.set_alpha(0)      # Fundo da figura\n",
    "\n",
    "        # Salvar com transparência\n",
    "        plt.savefig(f\"images/boxplot/{col}.png\", transparent=False, dpi=300)\n",
    "        plt.show()\n",
    "\n",
    "# Chamada\n",
    "plot_single_boxplots(df_enem, grade_cols, custom_palette, titles_dict)"
   ]
  },
  {
   "cell_type": "markdown",
   "id": "976d6cd1",
   "metadata": {},
   "source": [
    "Histogramas"
   ]
  },
  {
   "cell_type": "code",
   "execution_count": null,
   "id": "a8ef0617",
   "metadata": {},
   "outputs": [],
   "source": [
    "grade_cols = [\"NU_NOTA_CH\", \"NU_NOTA_CN\", \"NU_NOTA_MT\", \"NU_NOTA_LC\", \"NU_NOTA_REDACAO\", \"EST_IDADE\", \"EST_RENDA_PER_CAP\", \"EST_CELULAR_PER_CAP\",\"EST_COMP_PER_CAP\", \"EST_VEICULO_PER_CAP\", \"EST_ELE_DOM_PER_CAP\"]\n",
    "\n",
    "def plot_single_histograms(df: pd.DataFrame, cols: list[str], colors: list[str], titles:dict):\n",
    "    for col, color in zip(cols, colors):\n",
    "        plt.figure(figsize=(6,4))\n",
    "        sns.histplot(data=df, x=col, kde=True, color=color, edgecolor=\"white\")\n",
    "        plt.title(titles[col][\"title\"])\n",
    "        plt.xlabel(titles[col][\"xlabel\"])\n",
    "        plt.ylabel(titles[col][\"ylabel\"])\n",
    "\n",
    "        # fundo transparente\n",
    "        # plt.gca().set_facecolor(\"none\")  # área do gráfico\n",
    "        # plt.gcf().patch.set_alpha(0)     # figura inteira\n",
    "\n",
    "        # salva com fundo transparente\n",
    "        plt.savefig(f\"images/histogram/{col}.png\", transparent=False, dpi=300)\n",
    "        plt.show()\n",
    "\n",
    "plot_single_histograms(df_enem, grade_cols, custom_palette, titles_dict)"
   ]
  }
 ],
 "metadata": {
  "kernelspec": {
   "display_name": "Python 3",
   "language": "python",
   "name": "python3"
  },
  "language_info": {
   "codemirror_mode": {
    "name": "ipython",
    "version": 3
   },
   "file_extension": ".py",
   "mimetype": "text/x-python",
   "name": "python",
   "nbconvert_exporter": "python",
   "pygments_lexer": "ipython3",
   "version": "3.11.2"
  }
 },
 "nbformat": 4,
 "nbformat_minor": 5
}
