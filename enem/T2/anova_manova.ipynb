{
 "cells": [
  {
   "cell_type": "markdown",
   "id": "f1162b63",
   "metadata": {},
   "source": [
    "Importando bibliotecas"
   ]
  },
  {
   "cell_type": "code",
   "execution_count": null,
   "id": "895eade1",
   "metadata": {},
   "outputs": [],
   "source": [
    "import pandas as pd\n",
    "import statsmodels.api as sm\n",
    "from statsmodels.formula.api import ols\n",
    "from statsmodels.multivariate.manova import MANOVA"
   ]
  },
  {
   "cell_type": "markdown",
   "id": "d1558b59",
   "metadata": {},
   "source": [
    "Importando Base de Dados"
   ]
  },
  {
   "cell_type": "code",
   "execution_count": null,
   "id": "4de9ae5c",
   "metadata": {},
   "outputs": [],
   "source": [
    "df = pd.read_csv(\"../databases/ENEM_2023_FINAL_cat.csv\")\n",
    "display(df.sample(5))"
   ]
  },
  {
   "cell_type": "markdown",
   "id": "257b886a",
   "metadata": {},
   "source": [
    "Definindo funções que realizam testes de anova e manova"
   ]
  },
  {
   "cell_type": "code",
   "execution_count": null,
   "id": "ffe3f9fd",
   "metadata": {},
   "outputs": [],
   "source": [
    "def anova_test(df:pd.DataFrame, y_col:str, x_cols:list[str]):\n",
    "    ols_formula = f\"{y_col} ~ {' * '.join(f'C({item})' for item in x_cols)}\"\n",
    "    #print(ols_formula)\n",
    "    ols_model = ols(formula=ols_formula, data=df).fit()\n",
    "    display(sm.stats.anova_lm(ols_model, typ=2))\n",
    "\n",
    "def manova_test(df: pd.DataFrame, y_cols: list[str], x_col: str):\n",
    "    manova_formula = f\"{' + '.join(y_cols)} ~ {x_col}\"\n",
    "    #print(manova_formula)\n",
    "    manova_model = MANOVA.from_formula(manova_formula, data=df)\n",
    "    mv_results = manova_model.mv_test()\n",
    "    \n",
    "    dfs = {}\n",
    "    for factor, result in mv_results.results.items():\n",
    "        stat_df = pd.DataFrame(result['stat'])\n",
    "        stat_df.index.name = factor\n",
    "        dfs[factor] = stat_df.reset_index()\n",
    "    \n",
    "    for factor, df_factor in dfs.items():\n",
    "        print(factor)\n",
    "        display(df_factor)"
   ]
  }
 ],
 "metadata": {
  "kernelspec": {
   "display_name": "Python 3",
   "language": "python",
   "name": "python3"
  },
  "language_info": {
   "codemirror_mode": {
    "name": "ipython",
    "version": 3
   },
   "file_extension": ".py",
   "mimetype": "text/x-python",
   "name": "python",
   "nbconvert_exporter": "python",
   "pygments_lexer": "ipython3",
   "version": "3.11.2"
  }
 },
 "nbformat": 4,
 "nbformat_minor": 5
}
