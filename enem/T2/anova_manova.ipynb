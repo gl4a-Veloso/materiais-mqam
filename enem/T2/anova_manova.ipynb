{
 "cells": [
  {
   "cell_type": "markdown",
   "id": "f1162b63",
   "metadata": {},
   "source": [
    "Importando bibliotecas"
   ]
  },
  {
   "cell_type": "code",
   "execution_count": 2,
   "id": "895eade1",
   "metadata": {},
   "outputs": [],
   "source": [
    "import pandas as pd\n",
    "import statsmodels.api as sm\n",
    "from statsmodels.formula.api import ols\n",
    "from statsmodels.multivariate.manova import MANOVA"
   ]
  },
  {
   "cell_type": "markdown",
   "id": "d1558b59",
   "metadata": {},
   "source": [
    "Importando Base de Dados"
   ]
  },
  {
   "cell_type": "code",
   "execution_count": 3,
   "id": "4de9ae5c",
   "metadata": {},
   "outputs": [
    {
     "data": {
      "text/html": [
       "<div>\n",
       "<style scoped>\n",
       "    .dataframe tbody tr th:only-of-type {\n",
       "        vertical-align: middle;\n",
       "    }\n",
       "\n",
       "    .dataframe tbody tr th {\n",
       "        vertical-align: top;\n",
       "    }\n",
       "\n",
       "    .dataframe thead th {\n",
       "        text-align: right;\n",
       "    }\n",
       "</style>\n",
       "<table border=\"1\" class=\"dataframe\">\n",
       "  <thead>\n",
       "    <tr style=\"text-align: right;\">\n",
       "      <th></th>\n",
       "      <th>TP_SEXO</th>\n",
       "      <th>TP_COR_RACA</th>\n",
       "      <th>TP_DEPENDENCIA_ADM_ESC</th>\n",
       "      <th>NU_NOTA_CH</th>\n",
       "      <th>NU_NOTA_CN</th>\n",
       "      <th>NU_NOTA_MT</th>\n",
       "      <th>NU_NOTA_LC</th>\n",
       "      <th>NU_NOTA_REDACAO</th>\n",
       "      <th>ESCOLARIDADE_PAI</th>\n",
       "      <th>ESCOLARIDADE_MAE</th>\n",
       "      <th>N_PESSOAS_CASA</th>\n",
       "      <th>RENDA_MENSAL_CASA</th>\n",
       "      <th>N_CARRO_CASA</th>\n",
       "      <th>N_MOTO_CASA</th>\n",
       "      <th>N_CELULAR_CASA</th>\n",
       "      <th>N_COMP_CASA</th>\n",
       "      <th>INTERNET_CASA</th>\n",
       "      <th>EST_IDADE</th>\n",
       "    </tr>\n",
       "  </thead>\n",
       "  <tbody>\n",
       "    <tr>\n",
       "      <th>2046</th>\n",
       "      <td>Masculino</td>\n",
       "      <td>Parda</td>\n",
       "      <td>Privada</td>\n",
       "      <td>604.9</td>\n",
       "      <td>585.2</td>\n",
       "      <td>672.2</td>\n",
       "      <td>598.0</td>\n",
       "      <td>560.0</td>\n",
       "      <td>PG completo</td>\n",
       "      <td>EM incompleto</td>\n",
       "      <td>3</td>\n",
       "      <td>Até R$26400</td>\n",
       "      <td>Um</td>\n",
       "      <td>Um</td>\n",
       "      <td>Três</td>\n",
       "      <td>Três</td>\n",
       "      <td>True</td>\n",
       "      <td>17.0</td>\n",
       "    </tr>\n",
       "    <tr>\n",
       "      <th>7162</th>\n",
       "      <td>Feminino</td>\n",
       "      <td>Parda</td>\n",
       "      <td>Privada</td>\n",
       "      <td>564.0</td>\n",
       "      <td>510.3</td>\n",
       "      <td>554.7</td>\n",
       "      <td>543.5</td>\n",
       "      <td>680.0</td>\n",
       "      <td>EF-2 incompleto</td>\n",
       "      <td>EF-1 incompleto</td>\n",
       "      <td>3</td>\n",
       "      <td>Até R$1320</td>\n",
       "      <td>Nenhum</td>\n",
       "      <td>Nenhum</td>\n",
       "      <td>Um</td>\n",
       "      <td>Nenhum</td>\n",
       "      <td>True</td>\n",
       "      <td>18.0</td>\n",
       "    </tr>\n",
       "    <tr>\n",
       "      <th>6625</th>\n",
       "      <td>Feminino</td>\n",
       "      <td>Amarela</td>\n",
       "      <td>Estadual</td>\n",
       "      <td>401.6</td>\n",
       "      <td>415.3</td>\n",
       "      <td>353.4</td>\n",
       "      <td>439.6</td>\n",
       "      <td>540.0</td>\n",
       "      <td>ES incompleto</td>\n",
       "      <td>ES incompleto</td>\n",
       "      <td>3</td>\n",
       "      <td>Até R$1320</td>\n",
       "      <td>Um</td>\n",
       "      <td>Nenhum</td>\n",
       "      <td>Três</td>\n",
       "      <td>Nenhum</td>\n",
       "      <td>True</td>\n",
       "      <td>18.0</td>\n",
       "    </tr>\n",
       "    <tr>\n",
       "      <th>3825</th>\n",
       "      <td>Masculino</td>\n",
       "      <td>Branca</td>\n",
       "      <td>Privada</td>\n",
       "      <td>566.6</td>\n",
       "      <td>606.5</td>\n",
       "      <td>718.0</td>\n",
       "      <td>567.3</td>\n",
       "      <td>600.0</td>\n",
       "      <td>ES incompleto</td>\n",
       "      <td>ES incompleto</td>\n",
       "      <td>5</td>\n",
       "      <td>Até R$3300</td>\n",
       "      <td>Um</td>\n",
       "      <td>Um</td>\n",
       "      <td>Quatro ou mais</td>\n",
       "      <td>Um</td>\n",
       "      <td>True</td>\n",
       "      <td>18.0</td>\n",
       "    </tr>\n",
       "    <tr>\n",
       "      <th>2977</th>\n",
       "      <td>Feminino</td>\n",
       "      <td>Branca</td>\n",
       "      <td>Privada</td>\n",
       "      <td>626.9</td>\n",
       "      <td>601.0</td>\n",
       "      <td>715.3</td>\n",
       "      <td>578.6</td>\n",
       "      <td>900.0</td>\n",
       "      <td>ES incompleto</td>\n",
       "      <td>PG completo</td>\n",
       "      <td>4</td>\n",
       "      <td>Até R$3960</td>\n",
       "      <td>Um</td>\n",
       "      <td>Nenhum</td>\n",
       "      <td>Quatro ou mais</td>\n",
       "      <td>Quatro ou mais</td>\n",
       "      <td>True</td>\n",
       "      <td>18.0</td>\n",
       "    </tr>\n",
       "  </tbody>\n",
       "</table>\n",
       "</div>"
      ],
      "text/plain": [
       "        TP_SEXO TP_COR_RACA TP_DEPENDENCIA_ADM_ESC  NU_NOTA_CH  NU_NOTA_CN  \\\n",
       "2046  Masculino       Parda                Privada       604.9       585.2   \n",
       "7162   Feminino       Parda                Privada       564.0       510.3   \n",
       "6625   Feminino     Amarela               Estadual       401.6       415.3   \n",
       "3825  Masculino      Branca                Privada       566.6       606.5   \n",
       "2977   Feminino      Branca                Privada       626.9       601.0   \n",
       "\n",
       "      NU_NOTA_MT  NU_NOTA_LC  NU_NOTA_REDACAO ESCOLARIDADE_PAI  \\\n",
       "2046       672.2       598.0            560.0      PG completo   \n",
       "7162       554.7       543.5            680.0  EF-2 incompleto   \n",
       "6625       353.4       439.6            540.0    ES incompleto   \n",
       "3825       718.0       567.3            600.0    ES incompleto   \n",
       "2977       715.3       578.6            900.0    ES incompleto   \n",
       "\n",
       "     ESCOLARIDADE_MAE  N_PESSOAS_CASA RENDA_MENSAL_CASA N_CARRO_CASA  \\\n",
       "2046    EM incompleto               3       Até R$26400           Um   \n",
       "7162  EF-1 incompleto               3        Até R$1320       Nenhum   \n",
       "6625    ES incompleto               3        Até R$1320           Um   \n",
       "3825    ES incompleto               5        Até R$3300           Um   \n",
       "2977      PG completo               4        Até R$3960           Um   \n",
       "\n",
       "     N_MOTO_CASA  N_CELULAR_CASA     N_COMP_CASA  INTERNET_CASA  EST_IDADE  \n",
       "2046          Um            Três            Três           True       17.0  \n",
       "7162      Nenhum              Um          Nenhum           True       18.0  \n",
       "6625      Nenhum            Três          Nenhum           True       18.0  \n",
       "3825          Um  Quatro ou mais              Um           True       18.0  \n",
       "2977      Nenhum  Quatro ou mais  Quatro ou mais           True       18.0  "
      ]
     },
     "metadata": {},
     "output_type": "display_data"
    }
   ],
   "source": [
    "df = pd.read_csv(\"../databases/ENEM_2023_FINAL_cat.csv\")\n",
    "display(df.sample(5))"
   ]
  },
  {
   "cell_type": "markdown",
   "id": "257b886a",
   "metadata": {},
   "source": [
    "Definindo funções que realizam testes de anova e manova"
   ]
  },
  {
   "cell_type": "code",
   "execution_count": 16,
   "id": "ffe3f9fd",
   "metadata": {},
   "outputs": [],
   "source": [
    "def anova_test(df:pd.DataFrame, y_col:str, x_cols:list[str]):\n",
    "    ols_formula = f\"{y_col} ~ {' * '.join(f'C({item})' for item in x_cols)}\"\n",
    "    print(ols_formula)\n",
    "    ols_model = ols(formula=ols_formula, data=df).fit()\n",
    "    display(sm.stats.anova_lm(ols_model, typ=2))\n",
    "\n",
    "def anova_test_for_all_grades(df:pd.DataFrame, x_cols:list[str]):\n",
    "    grade_cols = [\"NU_NOTA_CH\", \"NU_NOTA_CN\", \"NU_NOTA_MT\", \"NU_NOTA_LC\", \"NU_NOTA_REDACAO\"]\n",
    "    for col in grade_cols:\n",
    "        anova_test(df, col, x_cols)\n",
    "\n",
    "def manova_test(df: pd.DataFrame, y_cols: list[str], x_col: str):\n",
    "    manova_formula = f\"{' + '.join(y_cols)} ~ {x_col}\"\n",
    "    print(manova_formula)\n",
    "    manova_model = MANOVA.from_formula(manova_formula, data=df)\n",
    "    mv_results = manova_model.mv_test()\n",
    "    \n",
    "    dfs = {}\n",
    "    for factor, result in mv_results.results.items():\n",
    "        stat_df = pd.DataFrame(result['stat'])\n",
    "        stat_df.index.name = factor\n",
    "        dfs[factor] = stat_df.reset_index()\n",
    "    \n",
    "    for factor, df_factor in dfs.items():\n",
    "        print(factor)\n",
    "        display(df_factor)"
   ]
  },
  {
   "cell_type": "markdown",
   "id": "3caf1f71",
   "metadata": {},
   "source": [
    "ANOVA - Sexo por Notas"
   ]
  },
  {
   "cell_type": "code",
   "execution_count": 15,
   "id": "37e0731c",
   "metadata": {},
   "outputs": [
    {
     "name": "stdout",
     "output_type": "stream",
     "text": [
      "NU_NOTA_CH ~ C(TP_SEXO)\n"
     ]
    },
    {
     "data": {
      "text/html": [
       "<div>\n",
       "<style scoped>\n",
       "    .dataframe tbody tr th:only-of-type {\n",
       "        vertical-align: middle;\n",
       "    }\n",
       "\n",
       "    .dataframe tbody tr th {\n",
       "        vertical-align: top;\n",
       "    }\n",
       "\n",
       "    .dataframe thead th {\n",
       "        text-align: right;\n",
       "    }\n",
       "</style>\n",
       "<table border=\"1\" class=\"dataframe\">\n",
       "  <thead>\n",
       "    <tr style=\"text-align: right;\">\n",
       "      <th></th>\n",
       "      <th>sum_sq</th>\n",
       "      <th>df</th>\n",
       "      <th>F</th>\n",
       "      <th>PR(&gt;F)</th>\n",
       "    </tr>\n",
       "  </thead>\n",
       "  <tbody>\n",
       "    <tr>\n",
       "      <th>C(TP_SEXO)</th>\n",
       "      <td>2.583001e+04</td>\n",
       "      <td>1.0</td>\n",
       "      <td>3.937391</td>\n",
       "      <td>0.047251</td>\n",
       "    </tr>\n",
       "    <tr>\n",
       "      <th>Residual</th>\n",
       "      <td>6.558872e+07</td>\n",
       "      <td>9998.0</td>\n",
       "      <td>NaN</td>\n",
       "      <td>NaN</td>\n",
       "    </tr>\n",
       "  </tbody>\n",
       "</table>\n",
       "</div>"
      ],
      "text/plain": [
       "                  sum_sq      df         F    PR(>F)\n",
       "C(TP_SEXO)  2.583001e+04     1.0  3.937391  0.047251\n",
       "Residual    6.558872e+07  9998.0       NaN       NaN"
      ]
     },
     "metadata": {},
     "output_type": "display_data"
    },
    {
     "name": "stdout",
     "output_type": "stream",
     "text": [
      "NU_NOTA_CN ~ C(TP_SEXO)\n"
     ]
    },
    {
     "data": {
      "text/html": [
       "<div>\n",
       "<style scoped>\n",
       "    .dataframe tbody tr th:only-of-type {\n",
       "        vertical-align: middle;\n",
       "    }\n",
       "\n",
       "    .dataframe tbody tr th {\n",
       "        vertical-align: top;\n",
       "    }\n",
       "\n",
       "    .dataframe thead th {\n",
       "        text-align: right;\n",
       "    }\n",
       "</style>\n",
       "<table border=\"1\" class=\"dataframe\">\n",
       "  <thead>\n",
       "    <tr style=\"text-align: right;\">\n",
       "      <th></th>\n",
       "      <th>sum_sq</th>\n",
       "      <th>df</th>\n",
       "      <th>F</th>\n",
       "      <th>PR(&gt;F)</th>\n",
       "    </tr>\n",
       "  </thead>\n",
       "  <tbody>\n",
       "    <tr>\n",
       "      <th>C(TP_SEXO)</th>\n",
       "      <td>7.251339e+05</td>\n",
       "      <td>1.0</td>\n",
       "      <td>99.579094</td>\n",
       "      <td>2.423199e-23</td>\n",
       "    </tr>\n",
       "    <tr>\n",
       "      <th>Residual</th>\n",
       "      <td>7.280533e+07</td>\n",
       "      <td>9998.0</td>\n",
       "      <td>NaN</td>\n",
       "      <td>NaN</td>\n",
       "    </tr>\n",
       "  </tbody>\n",
       "</table>\n",
       "</div>"
      ],
      "text/plain": [
       "                  sum_sq      df          F        PR(>F)\n",
       "C(TP_SEXO)  7.251339e+05     1.0  99.579094  2.423199e-23\n",
       "Residual    7.280533e+07  9998.0        NaN           NaN"
      ]
     },
     "metadata": {},
     "output_type": "display_data"
    },
    {
     "name": "stdout",
     "output_type": "stream",
     "text": [
      "NU_NOTA_LC ~ C(TP_SEXO)\n"
     ]
    },
    {
     "data": {
      "text/html": [
       "<div>\n",
       "<style scoped>\n",
       "    .dataframe tbody tr th:only-of-type {\n",
       "        vertical-align: middle;\n",
       "    }\n",
       "\n",
       "    .dataframe tbody tr th {\n",
       "        vertical-align: top;\n",
       "    }\n",
       "\n",
       "    .dataframe thead th {\n",
       "        text-align: right;\n",
       "    }\n",
       "</style>\n",
       "<table border=\"1\" class=\"dataframe\">\n",
       "  <thead>\n",
       "    <tr style=\"text-align: right;\">\n",
       "      <th></th>\n",
       "      <th>sum_sq</th>\n",
       "      <th>df</th>\n",
       "      <th>F</th>\n",
       "      <th>PR(&gt;F)</th>\n",
       "    </tr>\n",
       "  </thead>\n",
       "  <tbody>\n",
       "    <tr>\n",
       "      <th>C(TP_SEXO)</th>\n",
       "      <td>4.284760e+03</td>\n",
       "      <td>1.0</td>\n",
       "      <td>1.00313</td>\n",
       "      <td>0.316579</td>\n",
       "    </tr>\n",
       "    <tr>\n",
       "      <th>Residual</th>\n",
       "      <td>4.270537e+07</td>\n",
       "      <td>9998.0</td>\n",
       "      <td>NaN</td>\n",
       "      <td>NaN</td>\n",
       "    </tr>\n",
       "  </tbody>\n",
       "</table>\n",
       "</div>"
      ],
      "text/plain": [
       "                  sum_sq      df        F    PR(>F)\n",
       "C(TP_SEXO)  4.284760e+03     1.0  1.00313  0.316579\n",
       "Residual    4.270537e+07  9998.0      NaN       NaN"
      ]
     },
     "metadata": {},
     "output_type": "display_data"
    },
    {
     "name": "stdout",
     "output_type": "stream",
     "text": [
      "NU_NOTA_MT ~ C(TP_SEXO)\n"
     ]
    },
    {
     "data": {
      "text/html": [
       "<div>\n",
       "<style scoped>\n",
       "    .dataframe tbody tr th:only-of-type {\n",
       "        vertical-align: middle;\n",
       "    }\n",
       "\n",
       "    .dataframe tbody tr th {\n",
       "        vertical-align: top;\n",
       "    }\n",
       "\n",
       "    .dataframe thead th {\n",
       "        text-align: right;\n",
       "    }\n",
       "</style>\n",
       "<table border=\"1\" class=\"dataframe\">\n",
       "  <thead>\n",
       "    <tr style=\"text-align: right;\">\n",
       "      <th></th>\n",
       "      <th>sum_sq</th>\n",
       "      <th>df</th>\n",
       "      <th>F</th>\n",
       "      <th>PR(&gt;F)</th>\n",
       "    </tr>\n",
       "  </thead>\n",
       "  <tbody>\n",
       "    <tr>\n",
       "      <th>C(TP_SEXO)</th>\n",
       "      <td>3.474152e+06</td>\n",
       "      <td>1.0</td>\n",
       "      <td>219.500854</td>\n",
       "      <td>3.851687e-49</td>\n",
       "    </tr>\n",
       "    <tr>\n",
       "      <th>Residual</th>\n",
       "      <td>1.582434e+08</td>\n",
       "      <td>9998.0</td>\n",
       "      <td>NaN</td>\n",
       "      <td>NaN</td>\n",
       "    </tr>\n",
       "  </tbody>\n",
       "</table>\n",
       "</div>"
      ],
      "text/plain": [
       "                  sum_sq      df           F        PR(>F)\n",
       "C(TP_SEXO)  3.474152e+06     1.0  219.500854  3.851687e-49\n",
       "Residual    1.582434e+08  9998.0         NaN           NaN"
      ]
     },
     "metadata": {},
     "output_type": "display_data"
    },
    {
     "name": "stdout",
     "output_type": "stream",
     "text": [
      "NU_NOTA_REDACAO ~ C(TP_SEXO)\n"
     ]
    },
    {
     "data": {
      "text/html": [
       "<div>\n",
       "<style scoped>\n",
       "    .dataframe tbody tr th:only-of-type {\n",
       "        vertical-align: middle;\n",
       "    }\n",
       "\n",
       "    .dataframe tbody tr th {\n",
       "        vertical-align: top;\n",
       "    }\n",
       "\n",
       "    .dataframe thead th {\n",
       "        text-align: right;\n",
       "    }\n",
       "</style>\n",
       "<table border=\"1\" class=\"dataframe\">\n",
       "  <thead>\n",
       "    <tr style=\"text-align: right;\">\n",
       "      <th></th>\n",
       "      <th>sum_sq</th>\n",
       "      <th>df</th>\n",
       "      <th>F</th>\n",
       "      <th>PR(&gt;F)</th>\n",
       "    </tr>\n",
       "  </thead>\n",
       "  <tbody>\n",
       "    <tr>\n",
       "      <th>C(TP_SEXO)</th>\n",
       "      <td>9.461076e+06</td>\n",
       "      <td>1.0</td>\n",
       "      <td>310.527496</td>\n",
       "      <td>1.806804e-68</td>\n",
       "    </tr>\n",
       "    <tr>\n",
       "      <th>Residual</th>\n",
       "      <td>3.046166e+08</td>\n",
       "      <td>9998.0</td>\n",
       "      <td>NaN</td>\n",
       "      <td>NaN</td>\n",
       "    </tr>\n",
       "  </tbody>\n",
       "</table>\n",
       "</div>"
      ],
      "text/plain": [
       "                  sum_sq      df           F        PR(>F)\n",
       "C(TP_SEXO)  9.461076e+06     1.0  310.527496  1.806804e-68\n",
       "Residual    3.046166e+08  9998.0         NaN           NaN"
      ]
     },
     "metadata": {},
     "output_type": "display_data"
    }
   ],
   "source": [
    "anova_test_for_all_grades(df, [\"TP_SEXO\"])"
   ]
  },
  {
   "cell_type": "markdown",
   "id": "2ed19720",
   "metadata": {},
   "source": [
    "ANOVA - Cor/raça por nota"
   ]
  },
  {
   "cell_type": "code",
   "execution_count": 17,
   "id": "968e8dd7",
   "metadata": {},
   "outputs": [
    {
     "name": "stdout",
     "output_type": "stream",
     "text": [
      "NU_NOTA_CH ~ C(TP_COR_RACA)\n"
     ]
    },
    {
     "data": {
      "text/html": [
       "<div>\n",
       "<style scoped>\n",
       "    .dataframe tbody tr th:only-of-type {\n",
       "        vertical-align: middle;\n",
       "    }\n",
       "\n",
       "    .dataframe tbody tr th {\n",
       "        vertical-align: top;\n",
       "    }\n",
       "\n",
       "    .dataframe thead th {\n",
       "        text-align: right;\n",
       "    }\n",
       "</style>\n",
       "<table border=\"1\" class=\"dataframe\">\n",
       "  <thead>\n",
       "    <tr style=\"text-align: right;\">\n",
       "      <th></th>\n",
       "      <th>sum_sq</th>\n",
       "      <th>df</th>\n",
       "      <th>F</th>\n",
       "      <th>PR(&gt;F)</th>\n",
       "    </tr>\n",
       "  </thead>\n",
       "  <tbody>\n",
       "    <tr>\n",
       "      <th>C(TP_COR_RACA)</th>\n",
       "      <td>2.997721e+06</td>\n",
       "      <td>4.0</td>\n",
       "      <td>119.625272</td>\n",
       "      <td>7.341684e-100</td>\n",
       "    </tr>\n",
       "    <tr>\n",
       "      <th>Residual</th>\n",
       "      <td>6.261683e+07</td>\n",
       "      <td>9995.0</td>\n",
       "      <td>NaN</td>\n",
       "      <td>NaN</td>\n",
       "    </tr>\n",
       "  </tbody>\n",
       "</table>\n",
       "</div>"
      ],
      "text/plain": [
       "                      sum_sq      df           F         PR(>F)\n",
       "C(TP_COR_RACA)  2.997721e+06     4.0  119.625272  7.341684e-100\n",
       "Residual        6.261683e+07  9995.0         NaN            NaN"
      ]
     },
     "metadata": {},
     "output_type": "display_data"
    },
    {
     "name": "stdout",
     "output_type": "stream",
     "text": [
      "NU_NOTA_CN ~ C(TP_COR_RACA)\n"
     ]
    },
    {
     "data": {
      "text/html": [
       "<div>\n",
       "<style scoped>\n",
       "    .dataframe tbody tr th:only-of-type {\n",
       "        vertical-align: middle;\n",
       "    }\n",
       "\n",
       "    .dataframe tbody tr th {\n",
       "        vertical-align: top;\n",
       "    }\n",
       "\n",
       "    .dataframe thead th {\n",
       "        text-align: right;\n",
       "    }\n",
       "</style>\n",
       "<table border=\"1\" class=\"dataframe\">\n",
       "  <thead>\n",
       "    <tr style=\"text-align: right;\">\n",
       "      <th></th>\n",
       "      <th>sum_sq</th>\n",
       "      <th>df</th>\n",
       "      <th>F</th>\n",
       "      <th>PR(&gt;F)</th>\n",
       "    </tr>\n",
       "  </thead>\n",
       "  <tbody>\n",
       "    <tr>\n",
       "      <th>C(TP_COR_RACA)</th>\n",
       "      <td>4.746496e+06</td>\n",
       "      <td>4.0</td>\n",
       "      <td>172.428354</td>\n",
       "      <td>4.808998e-143</td>\n",
       "    </tr>\n",
       "    <tr>\n",
       "      <th>Residual</th>\n",
       "      <td>6.878397e+07</td>\n",
       "      <td>9995.0</td>\n",
       "      <td>NaN</td>\n",
       "      <td>NaN</td>\n",
       "    </tr>\n",
       "  </tbody>\n",
       "</table>\n",
       "</div>"
      ],
      "text/plain": [
       "                      sum_sq      df           F         PR(>F)\n",
       "C(TP_COR_RACA)  4.746496e+06     4.0  172.428354  4.808998e-143\n",
       "Residual        6.878397e+07  9995.0         NaN            NaN"
      ]
     },
     "metadata": {},
     "output_type": "display_data"
    },
    {
     "name": "stdout",
     "output_type": "stream",
     "text": [
      "NU_NOTA_MT ~ C(TP_COR_RACA)\n"
     ]
    },
    {
     "data": {
      "text/html": [
       "<div>\n",
       "<style scoped>\n",
       "    .dataframe tbody tr th:only-of-type {\n",
       "        vertical-align: middle;\n",
       "    }\n",
       "\n",
       "    .dataframe tbody tr th {\n",
       "        vertical-align: top;\n",
       "    }\n",
       "\n",
       "    .dataframe thead th {\n",
       "        text-align: right;\n",
       "    }\n",
       "</style>\n",
       "<table border=\"1\" class=\"dataframe\">\n",
       "  <thead>\n",
       "    <tr style=\"text-align: right;\">\n",
       "      <th></th>\n",
       "      <th>sum_sq</th>\n",
       "      <th>df</th>\n",
       "      <th>F</th>\n",
       "      <th>PR(&gt;F)</th>\n",
       "    </tr>\n",
       "  </thead>\n",
       "  <tbody>\n",
       "    <tr>\n",
       "      <th>C(TP_COR_RACA)</th>\n",
       "      <td>1.215672e+07</td>\n",
       "      <td>4.0</td>\n",
       "      <td>203.105331</td>\n",
       "      <td>9.212854e-168</td>\n",
       "    </tr>\n",
       "    <tr>\n",
       "      <th>Residual</th>\n",
       "      <td>1.495609e+08</td>\n",
       "      <td>9995.0</td>\n",
       "      <td>NaN</td>\n",
       "      <td>NaN</td>\n",
       "    </tr>\n",
       "  </tbody>\n",
       "</table>\n",
       "</div>"
      ],
      "text/plain": [
       "                      sum_sq      df           F         PR(>F)\n",
       "C(TP_COR_RACA)  1.215672e+07     4.0  203.105331  9.212854e-168\n",
       "Residual        1.495609e+08  9995.0         NaN            NaN"
      ]
     },
     "metadata": {},
     "output_type": "display_data"
    },
    {
     "name": "stdout",
     "output_type": "stream",
     "text": [
      "NU_NOTA_LC ~ C(TP_COR_RACA)\n"
     ]
    },
    {
     "data": {
      "text/html": [
       "<div>\n",
       "<style scoped>\n",
       "    .dataframe tbody tr th:only-of-type {\n",
       "        vertical-align: middle;\n",
       "    }\n",
       "\n",
       "    .dataframe tbody tr th {\n",
       "        vertical-align: top;\n",
       "    }\n",
       "\n",
       "    .dataframe thead th {\n",
       "        text-align: right;\n",
       "    }\n",
       "</style>\n",
       "<table border=\"1\" class=\"dataframe\">\n",
       "  <thead>\n",
       "    <tr style=\"text-align: right;\">\n",
       "      <th></th>\n",
       "      <th>sum_sq</th>\n",
       "      <th>df</th>\n",
       "      <th>F</th>\n",
       "      <th>PR(&gt;F)</th>\n",
       "    </tr>\n",
       "  </thead>\n",
       "  <tbody>\n",
       "    <tr>\n",
       "      <th>C(TP_COR_RACA)</th>\n",
       "      <td>1.975357e+06</td>\n",
       "      <td>4.0</td>\n",
       "      <td>121.173687</td>\n",
       "      <td>3.872489e-101</td>\n",
       "    </tr>\n",
       "    <tr>\n",
       "      <th>Residual</th>\n",
       "      <td>4.073429e+07</td>\n",
       "      <td>9995.0</td>\n",
       "      <td>NaN</td>\n",
       "      <td>NaN</td>\n",
       "    </tr>\n",
       "  </tbody>\n",
       "</table>\n",
       "</div>"
      ],
      "text/plain": [
       "                      sum_sq      df           F         PR(>F)\n",
       "C(TP_COR_RACA)  1.975357e+06     4.0  121.173687  3.872489e-101\n",
       "Residual        4.073429e+07  9995.0         NaN            NaN"
      ]
     },
     "metadata": {},
     "output_type": "display_data"
    },
    {
     "name": "stdout",
     "output_type": "stream",
     "text": [
      "NU_NOTA_REDACAO ~ C(TP_COR_RACA)\n"
     ]
    },
    {
     "data": {
      "text/html": [
       "<div>\n",
       "<style scoped>\n",
       "    .dataframe tbody tr th:only-of-type {\n",
       "        vertical-align: middle;\n",
       "    }\n",
       "\n",
       "    .dataframe tbody tr th {\n",
       "        vertical-align: top;\n",
       "    }\n",
       "\n",
       "    .dataframe thead th {\n",
       "        text-align: right;\n",
       "    }\n",
       "</style>\n",
       "<table border=\"1\" class=\"dataframe\">\n",
       "  <thead>\n",
       "    <tr style=\"text-align: right;\">\n",
       "      <th></th>\n",
       "      <th>sum_sq</th>\n",
       "      <th>df</th>\n",
       "      <th>F</th>\n",
       "      <th>PR(&gt;F)</th>\n",
       "    </tr>\n",
       "  </thead>\n",
       "  <tbody>\n",
       "    <tr>\n",
       "      <th>C(TP_COR_RACA)</th>\n",
       "      <td>1.231447e+07</td>\n",
       "      <td>4.0</td>\n",
       "      <td>101.969928</td>\n",
       "      <td>3.047033e-85</td>\n",
       "    </tr>\n",
       "    <tr>\n",
       "      <th>Residual</th>\n",
       "      <td>3.017633e+08</td>\n",
       "      <td>9995.0</td>\n",
       "      <td>NaN</td>\n",
       "      <td>NaN</td>\n",
       "    </tr>\n",
       "  </tbody>\n",
       "</table>\n",
       "</div>"
      ],
      "text/plain": [
       "                      sum_sq      df           F        PR(>F)\n",
       "C(TP_COR_RACA)  1.231447e+07     4.0  101.969928  3.047033e-85\n",
       "Residual        3.017633e+08  9995.0         NaN           NaN"
      ]
     },
     "metadata": {},
     "output_type": "display_data"
    }
   ],
   "source": [
    "anova_test_for_all_grades(df, [\"TP_COR_RACA\"])"
   ]
  },
  {
   "cell_type": "markdown",
   "id": "d109b429",
   "metadata": {},
   "source": [
    "ANOVA - Escolaridade mãe e escolaridade pai por Notas"
   ]
  },
  {
   "cell_type": "code",
   "execution_count": 20,
   "id": "700290fc",
   "metadata": {},
   "outputs": [
    {
     "name": "stdout",
     "output_type": "stream",
     "text": [
      "NU_NOTA_CH ~ C(ESCOLARIDADE_MAE) * C(ESCOLARIDADE_PAI)\n"
     ]
    },
    {
     "name": "stderr",
     "output_type": "stream",
     "text": [
      "c:\\Users\\glaub\\AppData\\Local\\Programs\\Python\\Python311\\Lib\\site-packages\\statsmodels\\base\\model.py:1894: ValueWarning: covariance of constraints does not have full rank. The number of constraints is 6, but rank is 5\n",
      "  warnings.warn('covariance of constraints does not have full '\n",
      "c:\\Users\\glaub\\AppData\\Local\\Programs\\Python\\Python311\\Lib\\site-packages\\statsmodels\\base\\model.py:1894: ValueWarning: covariance of constraints does not have full rank. The number of constraints is 6, but rank is 5\n",
      "  warnings.warn('covariance of constraints does not have full '\n",
      "c:\\Users\\glaub\\AppData\\Local\\Programs\\Python\\Python311\\Lib\\site-packages\\statsmodels\\base\\model.py:1894: ValueWarning: covariance of constraints does not have full rank. The number of constraints is 36, but rank is 35\n",
      "  warnings.warn('covariance of constraints does not have full '\n"
     ]
    },
    {
     "data": {
      "text/html": [
       "<div>\n",
       "<style scoped>\n",
       "    .dataframe tbody tr th:only-of-type {\n",
       "        vertical-align: middle;\n",
       "    }\n",
       "\n",
       "    .dataframe tbody tr th {\n",
       "        vertical-align: top;\n",
       "    }\n",
       "\n",
       "    .dataframe thead th {\n",
       "        text-align: right;\n",
       "    }\n",
       "</style>\n",
       "<table border=\"1\" class=\"dataframe\">\n",
       "  <thead>\n",
       "    <tr style=\"text-align: right;\">\n",
       "      <th></th>\n",
       "      <th>sum_sq</th>\n",
       "      <th>df</th>\n",
       "      <th>F</th>\n",
       "      <th>PR(&gt;F)</th>\n",
       "    </tr>\n",
       "  </thead>\n",
       "  <tbody>\n",
       "    <tr>\n",
       "      <th>C(ESCOLARIDADE_MAE)</th>\n",
       "      <td>1.623760e+06</td>\n",
       "      <td>6.0</td>\n",
       "      <td>46.351661</td>\n",
       "      <td>1.638747e-47</td>\n",
       "    </tr>\n",
       "    <tr>\n",
       "      <th>C(ESCOLARIDADE_PAI)</th>\n",
       "      <td>2.265681e+06</td>\n",
       "      <td>6.0</td>\n",
       "      <td>64.675847</td>\n",
       "      <td>1.171065e-66</td>\n",
       "    </tr>\n",
       "    <tr>\n",
       "      <th>C(ESCOLARIDADE_MAE):C(ESCOLARIDADE_PAI)</th>\n",
       "      <td>4.341841e+05</td>\n",
       "      <td>36.0</td>\n",
       "      <td>2.065694</td>\n",
       "      <td>2.202596e-04</td>\n",
       "    </tr>\n",
       "    <tr>\n",
       "      <th>Residual</th>\n",
       "      <td>5.810530e+07</td>\n",
       "      <td>9952.0</td>\n",
       "      <td>NaN</td>\n",
       "      <td>NaN</td>\n",
       "    </tr>\n",
       "  </tbody>\n",
       "</table>\n",
       "</div>"
      ],
      "text/plain": [
       "                                               sum_sq      df          F  \\\n",
       "C(ESCOLARIDADE_MAE)                      1.623760e+06     6.0  46.351661   \n",
       "C(ESCOLARIDADE_PAI)                      2.265681e+06     6.0  64.675847   \n",
       "C(ESCOLARIDADE_MAE):C(ESCOLARIDADE_PAI)  4.341841e+05    36.0   2.065694   \n",
       "Residual                                 5.810530e+07  9952.0        NaN   \n",
       "\n",
       "                                               PR(>F)  \n",
       "C(ESCOLARIDADE_MAE)                      1.638747e-47  \n",
       "C(ESCOLARIDADE_PAI)                      1.171065e-66  \n",
       "C(ESCOLARIDADE_MAE):C(ESCOLARIDADE_PAI)  2.202596e-04  \n",
       "Residual                                          NaN  "
      ]
     },
     "metadata": {},
     "output_type": "display_data"
    },
    {
     "name": "stdout",
     "output_type": "stream",
     "text": [
      "NU_NOTA_CN ~ C(ESCOLARIDADE_MAE) * C(ESCOLARIDADE_PAI)\n"
     ]
    },
    {
     "name": "stderr",
     "output_type": "stream",
     "text": [
      "c:\\Users\\glaub\\AppData\\Local\\Programs\\Python\\Python311\\Lib\\site-packages\\statsmodels\\base\\model.py:1894: ValueWarning: covariance of constraints does not have full rank. The number of constraints is 6, but rank is 5\n",
      "  warnings.warn('covariance of constraints does not have full '\n",
      "c:\\Users\\glaub\\AppData\\Local\\Programs\\Python\\Python311\\Lib\\site-packages\\statsmodels\\base\\model.py:1894: ValueWarning: covariance of constraints does not have full rank. The number of constraints is 6, but rank is 5\n",
      "  warnings.warn('covariance of constraints does not have full '\n",
      "c:\\Users\\glaub\\AppData\\Local\\Programs\\Python\\Python311\\Lib\\site-packages\\statsmodels\\base\\model.py:1894: ValueWarning: covariance of constraints does not have full rank. The number of constraints is 36, but rank is 35\n",
      "  warnings.warn('covariance of constraints does not have full '\n"
     ]
    },
    {
     "data": {
      "text/html": [
       "<div>\n",
       "<style scoped>\n",
       "    .dataframe tbody tr th:only-of-type {\n",
       "        vertical-align: middle;\n",
       "    }\n",
       "\n",
       "    .dataframe tbody tr th {\n",
       "        vertical-align: top;\n",
       "    }\n",
       "\n",
       "    .dataframe thead th {\n",
       "        text-align: right;\n",
       "    }\n",
       "</style>\n",
       "<table border=\"1\" class=\"dataframe\">\n",
       "  <thead>\n",
       "    <tr style=\"text-align: right;\">\n",
       "      <th></th>\n",
       "      <th>sum_sq</th>\n",
       "      <th>df</th>\n",
       "      <th>F</th>\n",
       "      <th>PR(&gt;F)</th>\n",
       "    </tr>\n",
       "  </thead>\n",
       "  <tbody>\n",
       "    <tr>\n",
       "      <th>C(ESCOLARIDADE_MAE)</th>\n",
       "      <td>1.899260e+06</td>\n",
       "      <td>6.0</td>\n",
       "      <td>50.134122</td>\n",
       "      <td>1.796427e-51</td>\n",
       "    </tr>\n",
       "    <tr>\n",
       "      <th>C(ESCOLARIDADE_PAI)</th>\n",
       "      <td>3.656075e+06</td>\n",
       "      <td>6.0</td>\n",
       "      <td>96.508181</td>\n",
       "      <td>1.261115e-99</td>\n",
       "    </tr>\n",
       "    <tr>\n",
       "      <th>C(ESCOLARIDADE_MAE):C(ESCOLARIDADE_PAI)</th>\n",
       "      <td>4.965460e+05</td>\n",
       "      <td>36.0</td>\n",
       "      <td>2.184526</td>\n",
       "      <td>6.722484e-05</td>\n",
       "    </tr>\n",
       "    <tr>\n",
       "      <th>Residual</th>\n",
       "      <td>6.283622e+07</td>\n",
       "      <td>9952.0</td>\n",
       "      <td>NaN</td>\n",
       "      <td>NaN</td>\n",
       "    </tr>\n",
       "  </tbody>\n",
       "</table>\n",
       "</div>"
      ],
      "text/plain": [
       "                                               sum_sq      df          F  \\\n",
       "C(ESCOLARIDADE_MAE)                      1.899260e+06     6.0  50.134122   \n",
       "C(ESCOLARIDADE_PAI)                      3.656075e+06     6.0  96.508181   \n",
       "C(ESCOLARIDADE_MAE):C(ESCOLARIDADE_PAI)  4.965460e+05    36.0   2.184526   \n",
       "Residual                                 6.283622e+07  9952.0        NaN   \n",
       "\n",
       "                                               PR(>F)  \n",
       "C(ESCOLARIDADE_MAE)                      1.796427e-51  \n",
       "C(ESCOLARIDADE_PAI)                      1.261115e-99  \n",
       "C(ESCOLARIDADE_MAE):C(ESCOLARIDADE_PAI)  6.722484e-05  \n",
       "Residual                                          NaN  "
      ]
     },
     "metadata": {},
     "output_type": "display_data"
    },
    {
     "name": "stdout",
     "output_type": "stream",
     "text": [
      "NU_NOTA_MT ~ C(ESCOLARIDADE_MAE) * C(ESCOLARIDADE_PAI)\n"
     ]
    },
    {
     "name": "stderr",
     "output_type": "stream",
     "text": [
      "c:\\Users\\glaub\\AppData\\Local\\Programs\\Python\\Python311\\Lib\\site-packages\\statsmodels\\base\\model.py:1894: ValueWarning: covariance of constraints does not have full rank. The number of constraints is 6, but rank is 5\n",
      "  warnings.warn('covariance of constraints does not have full '\n",
      "c:\\Users\\glaub\\AppData\\Local\\Programs\\Python\\Python311\\Lib\\site-packages\\statsmodels\\base\\model.py:1894: ValueWarning: covariance of constraints does not have full rank. The number of constraints is 6, but rank is 5\n",
      "  warnings.warn('covariance of constraints does not have full '\n",
      "c:\\Users\\glaub\\AppData\\Local\\Programs\\Python\\Python311\\Lib\\site-packages\\statsmodels\\base\\model.py:1894: ValueWarning: covariance of constraints does not have full rank. The number of constraints is 36, but rank is 35\n",
      "  warnings.warn('covariance of constraints does not have full '\n"
     ]
    },
    {
     "data": {
      "text/html": [
       "<div>\n",
       "<style scoped>\n",
       "    .dataframe tbody tr th:only-of-type {\n",
       "        vertical-align: middle;\n",
       "    }\n",
       "\n",
       "    .dataframe tbody tr th {\n",
       "        vertical-align: top;\n",
       "    }\n",
       "\n",
       "    .dataframe thead th {\n",
       "        text-align: right;\n",
       "    }\n",
       "</style>\n",
       "<table border=\"1\" class=\"dataframe\">\n",
       "  <thead>\n",
       "    <tr style=\"text-align: right;\">\n",
       "      <th></th>\n",
       "      <th>sum_sq</th>\n",
       "      <th>df</th>\n",
       "      <th>F</th>\n",
       "      <th>PR(&gt;F)</th>\n",
       "    </tr>\n",
       "  </thead>\n",
       "  <tbody>\n",
       "    <tr>\n",
       "      <th>C(ESCOLARIDADE_MAE)</th>\n",
       "      <td>5.183025e+06</td>\n",
       "      <td>6.0</td>\n",
       "      <td>63.849703</td>\n",
       "      <td>8.500419e-66</td>\n",
       "    </tr>\n",
       "    <tr>\n",
       "      <th>C(ESCOLARIDADE_PAI)</th>\n",
       "      <td>8.788023e+06</td>\n",
       "      <td>6.0</td>\n",
       "      <td>108.259689</td>\n",
       "      <td>1.088406e-111</td>\n",
       "    </tr>\n",
       "    <tr>\n",
       "      <th>C(ESCOLARIDADE_MAE):C(ESCOLARIDADE_PAI)</th>\n",
       "      <td>1.152170e+06</td>\n",
       "      <td>36.0</td>\n",
       "      <td>2.365597</td>\n",
       "      <td>1.015643e-05</td>\n",
       "    </tr>\n",
       "    <tr>\n",
       "      <th>Residual</th>\n",
       "      <td>1.346429e+08</td>\n",
       "      <td>9952.0</td>\n",
       "      <td>NaN</td>\n",
       "      <td>NaN</td>\n",
       "    </tr>\n",
       "  </tbody>\n",
       "</table>\n",
       "</div>"
      ],
      "text/plain": [
       "                                               sum_sq      df           F  \\\n",
       "C(ESCOLARIDADE_MAE)                      5.183025e+06     6.0   63.849703   \n",
       "C(ESCOLARIDADE_PAI)                      8.788023e+06     6.0  108.259689   \n",
       "C(ESCOLARIDADE_MAE):C(ESCOLARIDADE_PAI)  1.152170e+06    36.0    2.365597   \n",
       "Residual                                 1.346429e+08  9952.0         NaN   \n",
       "\n",
       "                                                PR(>F)  \n",
       "C(ESCOLARIDADE_MAE)                       8.500419e-66  \n",
       "C(ESCOLARIDADE_PAI)                      1.088406e-111  \n",
       "C(ESCOLARIDADE_MAE):C(ESCOLARIDADE_PAI)   1.015643e-05  \n",
       "Residual                                           NaN  "
      ]
     },
     "metadata": {},
     "output_type": "display_data"
    },
    {
     "name": "stdout",
     "output_type": "stream",
     "text": [
      "NU_NOTA_LC ~ C(ESCOLARIDADE_MAE) * C(ESCOLARIDADE_PAI)\n"
     ]
    },
    {
     "name": "stderr",
     "output_type": "stream",
     "text": [
      "c:\\Users\\glaub\\AppData\\Local\\Programs\\Python\\Python311\\Lib\\site-packages\\statsmodels\\base\\model.py:1894: ValueWarning: covariance of constraints does not have full rank. The number of constraints is 6, but rank is 5\n",
      "  warnings.warn('covariance of constraints does not have full '\n",
      "c:\\Users\\glaub\\AppData\\Local\\Programs\\Python\\Python311\\Lib\\site-packages\\statsmodels\\base\\model.py:1894: ValueWarning: covariance of constraints does not have full rank. The number of constraints is 6, but rank is 5\n",
      "  warnings.warn('covariance of constraints does not have full '\n",
      "c:\\Users\\glaub\\AppData\\Local\\Programs\\Python\\Python311\\Lib\\site-packages\\statsmodels\\base\\model.py:1894: ValueWarning: covariance of constraints does not have full rank. The number of constraints is 36, but rank is 35\n",
      "  warnings.warn('covariance of constraints does not have full '\n"
     ]
    },
    {
     "data": {
      "text/html": [
       "<div>\n",
       "<style scoped>\n",
       "    .dataframe tbody tr th:only-of-type {\n",
       "        vertical-align: middle;\n",
       "    }\n",
       "\n",
       "    .dataframe tbody tr th {\n",
       "        vertical-align: top;\n",
       "    }\n",
       "\n",
       "    .dataframe thead th {\n",
       "        text-align: right;\n",
       "    }\n",
       "</style>\n",
       "<table border=\"1\" class=\"dataframe\">\n",
       "  <thead>\n",
       "    <tr style=\"text-align: right;\">\n",
       "      <th></th>\n",
       "      <th>sum_sq</th>\n",
       "      <th>df</th>\n",
       "      <th>F</th>\n",
       "      <th>PR(&gt;F)</th>\n",
       "    </tr>\n",
       "  </thead>\n",
       "  <tbody>\n",
       "    <tr>\n",
       "      <th>C(ESCOLARIDADE_MAE)</th>\n",
       "      <td>1.005637e+06</td>\n",
       "      <td>6.0</td>\n",
       "      <td>43.578905</td>\n",
       "      <td>1.316880e-44</td>\n",
       "    </tr>\n",
       "    <tr>\n",
       "      <th>C(ESCOLARIDADE_PAI)</th>\n",
       "      <td>1.306688e+06</td>\n",
       "      <td>6.0</td>\n",
       "      <td>56.624827</td>\n",
       "      <td>2.937091e-58</td>\n",
       "    </tr>\n",
       "    <tr>\n",
       "      <th>C(ESCOLARIDADE_MAE):C(ESCOLARIDADE_PAI)</th>\n",
       "      <td>2.043773e+05</td>\n",
       "      <td>36.0</td>\n",
       "      <td>1.476102</td>\n",
       "      <td>3.479897e-02</td>\n",
       "    </tr>\n",
       "    <tr>\n",
       "      <th>Residual</th>\n",
       "      <td>3.827579e+07</td>\n",
       "      <td>9952.0</td>\n",
       "      <td>NaN</td>\n",
       "      <td>NaN</td>\n",
       "    </tr>\n",
       "  </tbody>\n",
       "</table>\n",
       "</div>"
      ],
      "text/plain": [
       "                                               sum_sq      df          F  \\\n",
       "C(ESCOLARIDADE_MAE)                      1.005637e+06     6.0  43.578905   \n",
       "C(ESCOLARIDADE_PAI)                      1.306688e+06     6.0  56.624827   \n",
       "C(ESCOLARIDADE_MAE):C(ESCOLARIDADE_PAI)  2.043773e+05    36.0   1.476102   \n",
       "Residual                                 3.827579e+07  9952.0        NaN   \n",
       "\n",
       "                                               PR(>F)  \n",
       "C(ESCOLARIDADE_MAE)                      1.316880e-44  \n",
       "C(ESCOLARIDADE_PAI)                      2.937091e-58  \n",
       "C(ESCOLARIDADE_MAE):C(ESCOLARIDADE_PAI)  3.479897e-02  \n",
       "Residual                                          NaN  "
      ]
     },
     "metadata": {},
     "output_type": "display_data"
    },
    {
     "name": "stderr",
     "output_type": "stream",
     "text": [
      "c:\\Users\\glaub\\AppData\\Local\\Programs\\Python\\Python311\\Lib\\site-packages\\statsmodels\\base\\model.py:1894: ValueWarning: covariance of constraints does not have full rank. The number of constraints is 6, but rank is 5\n",
      "  warnings.warn('covariance of constraints does not have full '\n"
     ]
    },
    {
     "name": "stdout",
     "output_type": "stream",
     "text": [
      "NU_NOTA_REDACAO ~ C(ESCOLARIDADE_MAE) * C(ESCOLARIDADE_PAI)\n"
     ]
    },
    {
     "name": "stderr",
     "output_type": "stream",
     "text": [
      "c:\\Users\\glaub\\AppData\\Local\\Programs\\Python\\Python311\\Lib\\site-packages\\statsmodels\\base\\model.py:1894: ValueWarning: covariance of constraints does not have full rank. The number of constraints is 6, but rank is 5\n",
      "  warnings.warn('covariance of constraints does not have full '\n",
      "c:\\Users\\glaub\\AppData\\Local\\Programs\\Python\\Python311\\Lib\\site-packages\\statsmodels\\base\\model.py:1894: ValueWarning: covariance of constraints does not have full rank. The number of constraints is 36, but rank is 35\n",
      "  warnings.warn('covariance of constraints does not have full '\n"
     ]
    },
    {
     "data": {
      "text/html": [
       "<div>\n",
       "<style scoped>\n",
       "    .dataframe tbody tr th:only-of-type {\n",
       "        vertical-align: middle;\n",
       "    }\n",
       "\n",
       "    .dataframe tbody tr th {\n",
       "        vertical-align: top;\n",
       "    }\n",
       "\n",
       "    .dataframe thead th {\n",
       "        text-align: right;\n",
       "    }\n",
       "</style>\n",
       "<table border=\"1\" class=\"dataframe\">\n",
       "  <thead>\n",
       "    <tr style=\"text-align: right;\">\n",
       "      <th></th>\n",
       "      <th>sum_sq</th>\n",
       "      <th>df</th>\n",
       "      <th>F</th>\n",
       "      <th>PR(&gt;F)</th>\n",
       "    </tr>\n",
       "  </thead>\n",
       "  <tbody>\n",
       "    <tr>\n",
       "      <th>C(ESCOLARIDADE_MAE)</th>\n",
       "      <td>5.751679e+06</td>\n",
       "      <td>6.0</td>\n",
       "      <td>33.221746</td>\n",
       "      <td>9.555806e-34</td>\n",
       "    </tr>\n",
       "    <tr>\n",
       "      <th>C(ESCOLARIDADE_PAI)</th>\n",
       "      <td>7.991016e+06</td>\n",
       "      <td>6.0</td>\n",
       "      <td>46.156180</td>\n",
       "      <td>2.625819e-47</td>\n",
       "    </tr>\n",
       "    <tr>\n",
       "      <th>C(ESCOLARIDADE_MAE):C(ESCOLARIDADE_PAI)</th>\n",
       "      <td>1.694333e+06</td>\n",
       "      <td>36.0</td>\n",
       "      <td>1.631081</td>\n",
       "      <td>1.077032e-02</td>\n",
       "    </tr>\n",
       "    <tr>\n",
       "      <th>Residual</th>\n",
       "      <td>2.871648e+08</td>\n",
       "      <td>9952.0</td>\n",
       "      <td>NaN</td>\n",
       "      <td>NaN</td>\n",
       "    </tr>\n",
       "  </tbody>\n",
       "</table>\n",
       "</div>"
      ],
      "text/plain": [
       "                                               sum_sq      df          F  \\\n",
       "C(ESCOLARIDADE_MAE)                      5.751679e+06     6.0  33.221746   \n",
       "C(ESCOLARIDADE_PAI)                      7.991016e+06     6.0  46.156180   \n",
       "C(ESCOLARIDADE_MAE):C(ESCOLARIDADE_PAI)  1.694333e+06    36.0   1.631081   \n",
       "Residual                                 2.871648e+08  9952.0        NaN   \n",
       "\n",
       "                                               PR(>F)  \n",
       "C(ESCOLARIDADE_MAE)                      9.555806e-34  \n",
       "C(ESCOLARIDADE_PAI)                      2.625819e-47  \n",
       "C(ESCOLARIDADE_MAE):C(ESCOLARIDADE_PAI)  1.077032e-02  \n",
       "Residual                                          NaN  "
      ]
     },
     "metadata": {},
     "output_type": "display_data"
    }
   ],
   "source": [
    "anova_test_for_all_grades(df, [\"ESCOLARIDADE_MAE\", \"ESCOLARIDADE_PAI\"])"
   ]
  },
  {
   "cell_type": "markdown",
   "id": "fd595951",
   "metadata": {},
   "source": [
    "ANOVA - Dependencia da Escola por Nota"
   ]
  },
  {
   "cell_type": "code",
   "execution_count": 21,
   "id": "f02715af",
   "metadata": {},
   "outputs": [
    {
     "name": "stdout",
     "output_type": "stream",
     "text": [
      "NU_NOTA_CH ~ C(TP_DEPENDENCIA_ADM_ESC)\n"
     ]
    },
    {
     "data": {
      "text/html": [
       "<div>\n",
       "<style scoped>\n",
       "    .dataframe tbody tr th:only-of-type {\n",
       "        vertical-align: middle;\n",
       "    }\n",
       "\n",
       "    .dataframe tbody tr th {\n",
       "        vertical-align: top;\n",
       "    }\n",
       "\n",
       "    .dataframe thead th {\n",
       "        text-align: right;\n",
       "    }\n",
       "</style>\n",
       "<table border=\"1\" class=\"dataframe\">\n",
       "  <thead>\n",
       "    <tr style=\"text-align: right;\">\n",
       "      <th></th>\n",
       "      <th>sum_sq</th>\n",
       "      <th>df</th>\n",
       "      <th>F</th>\n",
       "      <th>PR(&gt;F)</th>\n",
       "    </tr>\n",
       "  </thead>\n",
       "  <tbody>\n",
       "    <tr>\n",
       "      <th>C(TP_DEPENDENCIA_ADM_ESC)</th>\n",
       "      <td>6.667045e+06</td>\n",
       "      <td>3.0</td>\n",
       "      <td>376.853891</td>\n",
       "      <td>6.685670e-232</td>\n",
       "    </tr>\n",
       "    <tr>\n",
       "      <th>Residual</th>\n",
       "      <td>5.894750e+07</td>\n",
       "      <td>9996.0</td>\n",
       "      <td>NaN</td>\n",
       "      <td>NaN</td>\n",
       "    </tr>\n",
       "  </tbody>\n",
       "</table>\n",
       "</div>"
      ],
      "text/plain": [
       "                                 sum_sq      df           F         PR(>F)\n",
       "C(TP_DEPENDENCIA_ADM_ESC)  6.667045e+06     3.0  376.853891  6.685670e-232\n",
       "Residual                   5.894750e+07  9996.0         NaN            NaN"
      ]
     },
     "metadata": {},
     "output_type": "display_data"
    },
    {
     "name": "stdout",
     "output_type": "stream",
     "text": [
      "NU_NOTA_CN ~ C(TP_DEPENDENCIA_ADM_ESC)\n"
     ]
    },
    {
     "data": {
      "text/html": [
       "<div>\n",
       "<style scoped>\n",
       "    .dataframe tbody tr th:only-of-type {\n",
       "        vertical-align: middle;\n",
       "    }\n",
       "\n",
       "    .dataframe tbody tr th {\n",
       "        vertical-align: top;\n",
       "    }\n",
       "\n",
       "    .dataframe thead th {\n",
       "        text-align: right;\n",
       "    }\n",
       "</style>\n",
       "<table border=\"1\" class=\"dataframe\">\n",
       "  <thead>\n",
       "    <tr style=\"text-align: right;\">\n",
       "      <th></th>\n",
       "      <th>sum_sq</th>\n",
       "      <th>df</th>\n",
       "      <th>F</th>\n",
       "      <th>PR(&gt;F)</th>\n",
       "    </tr>\n",
       "  </thead>\n",
       "  <tbody>\n",
       "    <tr>\n",
       "      <th>C(TP_DEPENDENCIA_ADM_ESC)</th>\n",
       "      <td>1.066471e+07</td>\n",
       "      <td>3.0</td>\n",
       "      <td>565.24912</td>\n",
       "      <td>0.0</td>\n",
       "    </tr>\n",
       "    <tr>\n",
       "      <th>Residual</th>\n",
       "      <td>6.286576e+07</td>\n",
       "      <td>9996.0</td>\n",
       "      <td>NaN</td>\n",
       "      <td>NaN</td>\n",
       "    </tr>\n",
       "  </tbody>\n",
       "</table>\n",
       "</div>"
      ],
      "text/plain": [
       "                                 sum_sq      df          F  PR(>F)\n",
       "C(TP_DEPENDENCIA_ADM_ESC)  1.066471e+07     3.0  565.24912     0.0\n",
       "Residual                   6.286576e+07  9996.0        NaN     NaN"
      ]
     },
     "metadata": {},
     "output_type": "display_data"
    },
    {
     "name": "stdout",
     "output_type": "stream",
     "text": [
      "NU_NOTA_MT ~ C(TP_DEPENDENCIA_ADM_ESC)\n"
     ]
    },
    {
     "data": {
      "text/html": [
       "<div>\n",
       "<style scoped>\n",
       "    .dataframe tbody tr th:only-of-type {\n",
       "        vertical-align: middle;\n",
       "    }\n",
       "\n",
       "    .dataframe tbody tr th {\n",
       "        vertical-align: top;\n",
       "    }\n",
       "\n",
       "    .dataframe thead th {\n",
       "        text-align: right;\n",
       "    }\n",
       "</style>\n",
       "<table border=\"1\" class=\"dataframe\">\n",
       "  <thead>\n",
       "    <tr style=\"text-align: right;\">\n",
       "      <th></th>\n",
       "      <th>sum_sq</th>\n",
       "      <th>df</th>\n",
       "      <th>F</th>\n",
       "      <th>PR(&gt;F)</th>\n",
       "    </tr>\n",
       "  </thead>\n",
       "  <tbody>\n",
       "    <tr>\n",
       "      <th>C(TP_DEPENDENCIA_ADM_ESC)</th>\n",
       "      <td>2.543570e+07</td>\n",
       "      <td>3.0</td>\n",
       "      <td>621.885593</td>\n",
       "      <td>0.0</td>\n",
       "    </tr>\n",
       "    <tr>\n",
       "      <th>Residual</th>\n",
       "      <td>1.362819e+08</td>\n",
       "      <td>9996.0</td>\n",
       "      <td>NaN</td>\n",
       "      <td>NaN</td>\n",
       "    </tr>\n",
       "  </tbody>\n",
       "</table>\n",
       "</div>"
      ],
      "text/plain": [
       "                                 sum_sq      df           F  PR(>F)\n",
       "C(TP_DEPENDENCIA_ADM_ESC)  2.543570e+07     3.0  621.885593     0.0\n",
       "Residual                   1.362819e+08  9996.0         NaN     NaN"
      ]
     },
     "metadata": {},
     "output_type": "display_data"
    },
    {
     "name": "stdout",
     "output_type": "stream",
     "text": [
      "NU_NOTA_LC ~ C(TP_DEPENDENCIA_ADM_ESC)\n"
     ]
    },
    {
     "data": {
      "text/html": [
       "<div>\n",
       "<style scoped>\n",
       "    .dataframe tbody tr th:only-of-type {\n",
       "        vertical-align: middle;\n",
       "    }\n",
       "\n",
       "    .dataframe tbody tr th {\n",
       "        vertical-align: top;\n",
       "    }\n",
       "\n",
       "    .dataframe thead th {\n",
       "        text-align: right;\n",
       "    }\n",
       "</style>\n",
       "<table border=\"1\" class=\"dataframe\">\n",
       "  <thead>\n",
       "    <tr style=\"text-align: right;\">\n",
       "      <th></th>\n",
       "      <th>sum_sq</th>\n",
       "      <th>df</th>\n",
       "      <th>F</th>\n",
       "      <th>PR(&gt;F)</th>\n",
       "    </tr>\n",
       "  </thead>\n",
       "  <tbody>\n",
       "    <tr>\n",
       "      <th>C(TP_DEPENDENCIA_ADM_ESC)</th>\n",
       "      <td>3.638827e+06</td>\n",
       "      <td>3.0</td>\n",
       "      <td>310.322904</td>\n",
       "      <td>1.195791e-192</td>\n",
       "    </tr>\n",
       "    <tr>\n",
       "      <th>Residual</th>\n",
       "      <td>3.907082e+07</td>\n",
       "      <td>9996.0</td>\n",
       "      <td>NaN</td>\n",
       "      <td>NaN</td>\n",
       "    </tr>\n",
       "  </tbody>\n",
       "</table>\n",
       "</div>"
      ],
      "text/plain": [
       "                                 sum_sq      df           F         PR(>F)\n",
       "C(TP_DEPENDENCIA_ADM_ESC)  3.638827e+06     3.0  310.322904  1.195791e-192\n",
       "Residual                   3.907082e+07  9996.0         NaN            NaN"
      ]
     },
     "metadata": {},
     "output_type": "display_data"
    },
    {
     "name": "stdout",
     "output_type": "stream",
     "text": [
      "NU_NOTA_REDACAO ~ C(TP_DEPENDENCIA_ADM_ESC)\n"
     ]
    },
    {
     "data": {
      "text/html": [
       "<div>\n",
       "<style scoped>\n",
       "    .dataframe tbody tr th:only-of-type {\n",
       "        vertical-align: middle;\n",
       "    }\n",
       "\n",
       "    .dataframe tbody tr th {\n",
       "        vertical-align: top;\n",
       "    }\n",
       "\n",
       "    .dataframe thead th {\n",
       "        text-align: right;\n",
       "    }\n",
       "</style>\n",
       "<table border=\"1\" class=\"dataframe\">\n",
       "  <thead>\n",
       "    <tr style=\"text-align: right;\">\n",
       "      <th></th>\n",
       "      <th>sum_sq</th>\n",
       "      <th>df</th>\n",
       "      <th>F</th>\n",
       "      <th>PR(&gt;F)</th>\n",
       "    </tr>\n",
       "  </thead>\n",
       "  <tbody>\n",
       "    <tr>\n",
       "      <th>C(TP_DEPENDENCIA_ADM_ESC)</th>\n",
       "      <td>3.732579e+07</td>\n",
       "      <td>3.0</td>\n",
       "      <td>449.389899</td>\n",
       "      <td>6.565253e-274</td>\n",
       "    </tr>\n",
       "    <tr>\n",
       "      <th>Residual</th>\n",
       "      <td>2.767519e+08</td>\n",
       "      <td>9996.0</td>\n",
       "      <td>NaN</td>\n",
       "      <td>NaN</td>\n",
       "    </tr>\n",
       "  </tbody>\n",
       "</table>\n",
       "</div>"
      ],
      "text/plain": [
       "                                 sum_sq      df           F         PR(>F)\n",
       "C(TP_DEPENDENCIA_ADM_ESC)  3.732579e+07     3.0  449.389899  6.565253e-274\n",
       "Residual                   2.767519e+08  9996.0         NaN            NaN"
      ]
     },
     "metadata": {},
     "output_type": "display_data"
    }
   ],
   "source": [
    "anova_test_for_all_grades(df, [\"TP_DEPENDENCIA_ADM_ESC\"])"
   ]
  },
  {
   "cell_type": "markdown",
   "id": "27aa5856",
   "metadata": {},
   "source": [
    "ANOVA - Renda mensal casa por Notas"
   ]
  },
  {
   "cell_type": "code",
   "execution_count": 22,
   "id": "d31d9007",
   "metadata": {},
   "outputs": [
    {
     "name": "stdout",
     "output_type": "stream",
     "text": [
      "NU_NOTA_CH ~ C(RENDA_MENSAL_CASA)\n"
     ]
    },
    {
     "data": {
      "text/html": [
       "<div>\n",
       "<style scoped>\n",
       "    .dataframe tbody tr th:only-of-type {\n",
       "        vertical-align: middle;\n",
       "    }\n",
       "\n",
       "    .dataframe tbody tr th {\n",
       "        vertical-align: top;\n",
       "    }\n",
       "\n",
       "    .dataframe thead th {\n",
       "        text-align: right;\n",
       "    }\n",
       "</style>\n",
       "<table border=\"1\" class=\"dataframe\">\n",
       "  <thead>\n",
       "    <tr style=\"text-align: right;\">\n",
       "      <th></th>\n",
       "      <th>sum_sq</th>\n",
       "      <th>df</th>\n",
       "      <th>F</th>\n",
       "      <th>PR(&gt;F)</th>\n",
       "    </tr>\n",
       "  </thead>\n",
       "  <tbody>\n",
       "    <tr>\n",
       "      <th>C(RENDA_MENSAL_CASA)</th>\n",
       "      <td>8.454672e+06</td>\n",
       "      <td>16.0</td>\n",
       "      <td>92.288286</td>\n",
       "      <td>8.459280e-284</td>\n",
       "    </tr>\n",
       "    <tr>\n",
       "      <th>Residual</th>\n",
       "      <td>5.715988e+07</td>\n",
       "      <td>9983.0</td>\n",
       "      <td>NaN</td>\n",
       "      <td>NaN</td>\n",
       "    </tr>\n",
       "  </tbody>\n",
       "</table>\n",
       "</div>"
      ],
      "text/plain": [
       "                            sum_sq      df          F         PR(>F)\n",
       "C(RENDA_MENSAL_CASA)  8.454672e+06    16.0  92.288286  8.459280e-284\n",
       "Residual              5.715988e+07  9983.0        NaN            NaN"
      ]
     },
     "metadata": {},
     "output_type": "display_data"
    },
    {
     "name": "stdout",
     "output_type": "stream",
     "text": [
      "NU_NOTA_CN ~ C(RENDA_MENSAL_CASA)\n"
     ]
    },
    {
     "data": {
      "text/html": [
       "<div>\n",
       "<style scoped>\n",
       "    .dataframe tbody tr th:only-of-type {\n",
       "        vertical-align: middle;\n",
       "    }\n",
       "\n",
       "    .dataframe tbody tr th {\n",
       "        vertical-align: top;\n",
       "    }\n",
       "\n",
       "    .dataframe thead th {\n",
       "        text-align: right;\n",
       "    }\n",
       "</style>\n",
       "<table border=\"1\" class=\"dataframe\">\n",
       "  <thead>\n",
       "    <tr style=\"text-align: right;\">\n",
       "      <th></th>\n",
       "      <th>sum_sq</th>\n",
       "      <th>df</th>\n",
       "      <th>F</th>\n",
       "      <th>PR(&gt;F)</th>\n",
       "    </tr>\n",
       "  </thead>\n",
       "  <tbody>\n",
       "    <tr>\n",
       "      <th>C(RENDA_MENSAL_CASA)</th>\n",
       "      <td>1.291369e+07</td>\n",
       "      <td>16.0</td>\n",
       "      <td>132.922489</td>\n",
       "      <td>0.0</td>\n",
       "    </tr>\n",
       "    <tr>\n",
       "      <th>Residual</th>\n",
       "      <td>6.061678e+07</td>\n",
       "      <td>9983.0</td>\n",
       "      <td>NaN</td>\n",
       "      <td>NaN</td>\n",
       "    </tr>\n",
       "  </tbody>\n",
       "</table>\n",
       "</div>"
      ],
      "text/plain": [
       "                            sum_sq      df           F  PR(>F)\n",
       "C(RENDA_MENSAL_CASA)  1.291369e+07    16.0  132.922489     0.0\n",
       "Residual              6.061678e+07  9983.0         NaN     NaN"
      ]
     },
     "metadata": {},
     "output_type": "display_data"
    },
    {
     "name": "stdout",
     "output_type": "stream",
     "text": [
      "NU_NOTA_MT ~ C(RENDA_MENSAL_CASA)\n"
     ]
    },
    {
     "data": {
      "text/html": [
       "<div>\n",
       "<style scoped>\n",
       "    .dataframe tbody tr th:only-of-type {\n",
       "        vertical-align: middle;\n",
       "    }\n",
       "\n",
       "    .dataframe tbody tr th {\n",
       "        vertical-align: top;\n",
       "    }\n",
       "\n",
       "    .dataframe thead th {\n",
       "        text-align: right;\n",
       "    }\n",
       "</style>\n",
       "<table border=\"1\" class=\"dataframe\">\n",
       "  <thead>\n",
       "    <tr style=\"text-align: right;\">\n",
       "      <th></th>\n",
       "      <th>sum_sq</th>\n",
       "      <th>df</th>\n",
       "      <th>F</th>\n",
       "      <th>PR(&gt;F)</th>\n",
       "    </tr>\n",
       "  </thead>\n",
       "  <tbody>\n",
       "    <tr>\n",
       "      <th>C(RENDA_MENSAL_CASA)</th>\n",
       "      <td>3.434157e+07</td>\n",
       "      <td>16.0</td>\n",
       "      <td>168.218404</td>\n",
       "      <td>0.0</td>\n",
       "    </tr>\n",
       "    <tr>\n",
       "      <th>Residual</th>\n",
       "      <td>1.273760e+08</td>\n",
       "      <td>9983.0</td>\n",
       "      <td>NaN</td>\n",
       "      <td>NaN</td>\n",
       "    </tr>\n",
       "  </tbody>\n",
       "</table>\n",
       "</div>"
      ],
      "text/plain": [
       "                            sum_sq      df           F  PR(>F)\n",
       "C(RENDA_MENSAL_CASA)  3.434157e+07    16.0  168.218404     0.0\n",
       "Residual              1.273760e+08  9983.0         NaN     NaN"
      ]
     },
     "metadata": {},
     "output_type": "display_data"
    },
    {
     "name": "stdout",
     "output_type": "stream",
     "text": [
      "NU_NOTA_LC ~ C(RENDA_MENSAL_CASA)\n"
     ]
    },
    {
     "data": {
      "text/html": [
       "<div>\n",
       "<style scoped>\n",
       "    .dataframe tbody tr th:only-of-type {\n",
       "        vertical-align: middle;\n",
       "    }\n",
       "\n",
       "    .dataframe tbody tr th {\n",
       "        vertical-align: top;\n",
       "    }\n",
       "\n",
       "    .dataframe thead th {\n",
       "        text-align: right;\n",
       "    }\n",
       "</style>\n",
       "<table border=\"1\" class=\"dataframe\">\n",
       "  <thead>\n",
       "    <tr style=\"text-align: right;\">\n",
       "      <th></th>\n",
       "      <th>sum_sq</th>\n",
       "      <th>df</th>\n",
       "      <th>F</th>\n",
       "      <th>PR(&gt;F)</th>\n",
       "    </tr>\n",
       "  </thead>\n",
       "  <tbody>\n",
       "    <tr>\n",
       "      <th>C(RENDA_MENSAL_CASA)</th>\n",
       "      <td>5.117374e+06</td>\n",
       "      <td>16.0</td>\n",
       "      <td>84.935569</td>\n",
       "      <td>1.191097e-261</td>\n",
       "    </tr>\n",
       "    <tr>\n",
       "      <th>Residual</th>\n",
       "      <td>3.759228e+07</td>\n",
       "      <td>9983.0</td>\n",
       "      <td>NaN</td>\n",
       "      <td>NaN</td>\n",
       "    </tr>\n",
       "  </tbody>\n",
       "</table>\n",
       "</div>"
      ],
      "text/plain": [
       "                            sum_sq      df          F         PR(>F)\n",
       "C(RENDA_MENSAL_CASA)  5.117374e+06    16.0  84.935569  1.191097e-261\n",
       "Residual              3.759228e+07  9983.0        NaN            NaN"
      ]
     },
     "metadata": {},
     "output_type": "display_data"
    },
    {
     "name": "stdout",
     "output_type": "stream",
     "text": [
      "NU_NOTA_REDACAO ~ C(RENDA_MENSAL_CASA)\n"
     ]
    },
    {
     "data": {
      "text/html": [
       "<div>\n",
       "<style scoped>\n",
       "    .dataframe tbody tr th:only-of-type {\n",
       "        vertical-align: middle;\n",
       "    }\n",
       "\n",
       "    .dataframe tbody tr th {\n",
       "        vertical-align: top;\n",
       "    }\n",
       "\n",
       "    .dataframe thead th {\n",
       "        text-align: right;\n",
       "    }\n",
       "</style>\n",
       "<table border=\"1\" class=\"dataframe\">\n",
       "  <thead>\n",
       "    <tr style=\"text-align: right;\">\n",
       "      <th></th>\n",
       "      <th>sum_sq</th>\n",
       "      <th>df</th>\n",
       "      <th>F</th>\n",
       "      <th>PR(&gt;F)</th>\n",
       "    </tr>\n",
       "  </thead>\n",
       "  <tbody>\n",
       "    <tr>\n",
       "      <th>C(RENDA_MENSAL_CASA)</th>\n",
       "      <td>3.147660e+07</td>\n",
       "      <td>16.0</td>\n",
       "      <td>69.495245</td>\n",
       "      <td>1.876379e-214</td>\n",
       "    </tr>\n",
       "    <tr>\n",
       "      <th>Residual</th>\n",
       "      <td>2.826011e+08</td>\n",
       "      <td>9983.0</td>\n",
       "      <td>NaN</td>\n",
       "      <td>NaN</td>\n",
       "    </tr>\n",
       "  </tbody>\n",
       "</table>\n",
       "</div>"
      ],
      "text/plain": [
       "                            sum_sq      df          F         PR(>F)\n",
       "C(RENDA_MENSAL_CASA)  3.147660e+07    16.0  69.495245  1.876379e-214\n",
       "Residual              2.826011e+08  9983.0        NaN            NaN"
      ]
     },
     "metadata": {},
     "output_type": "display_data"
    }
   ],
   "source": [
    "anova_test_for_all_grades(df, [\"RENDA_MENSAL_CASA\"])"
   ]
  },
  {
   "cell_type": "markdown",
   "id": "2d97fc34",
   "metadata": {},
   "source": [
    "ANOVA - Internet por Notas"
   ]
  },
  {
   "cell_type": "code",
   "execution_count": 23,
   "id": "7db29cd7",
   "metadata": {},
   "outputs": [
    {
     "name": "stdout",
     "output_type": "stream",
     "text": [
      "NU_NOTA_CH ~ C(INTERNET_CASA)\n"
     ]
    },
    {
     "data": {
      "text/html": [
       "<div>\n",
       "<style scoped>\n",
       "    .dataframe tbody tr th:only-of-type {\n",
       "        vertical-align: middle;\n",
       "    }\n",
       "\n",
       "    .dataframe tbody tr th {\n",
       "        vertical-align: top;\n",
       "    }\n",
       "\n",
       "    .dataframe thead th {\n",
       "        text-align: right;\n",
       "    }\n",
       "</style>\n",
       "<table border=\"1\" class=\"dataframe\">\n",
       "  <thead>\n",
       "    <tr style=\"text-align: right;\">\n",
       "      <th></th>\n",
       "      <th>sum_sq</th>\n",
       "      <th>df</th>\n",
       "      <th>F</th>\n",
       "      <th>PR(&gt;F)</th>\n",
       "    </tr>\n",
       "  </thead>\n",
       "  <tbody>\n",
       "    <tr>\n",
       "      <th>C(INTERNET_CASA)</th>\n",
       "      <td>4.366763e+05</td>\n",
       "      <td>1.0</td>\n",
       "      <td>66.984238</td>\n",
       "      <td>3.070456e-16</td>\n",
       "    </tr>\n",
       "    <tr>\n",
       "      <th>Residual</th>\n",
       "      <td>6.517787e+07</td>\n",
       "      <td>9998.0</td>\n",
       "      <td>NaN</td>\n",
       "      <td>NaN</td>\n",
       "    </tr>\n",
       "  </tbody>\n",
       "</table>\n",
       "</div>"
      ],
      "text/plain": [
       "                        sum_sq      df          F        PR(>F)\n",
       "C(INTERNET_CASA)  4.366763e+05     1.0  66.984238  3.070456e-16\n",
       "Residual          6.517787e+07  9998.0        NaN           NaN"
      ]
     },
     "metadata": {},
     "output_type": "display_data"
    },
    {
     "name": "stdout",
     "output_type": "stream",
     "text": [
      "NU_NOTA_CN ~ C(INTERNET_CASA)\n"
     ]
    },
    {
     "data": {
      "text/html": [
       "<div>\n",
       "<style scoped>\n",
       "    .dataframe tbody tr th:only-of-type {\n",
       "        vertical-align: middle;\n",
       "    }\n",
       "\n",
       "    .dataframe tbody tr th {\n",
       "        vertical-align: top;\n",
       "    }\n",
       "\n",
       "    .dataframe thead th {\n",
       "        text-align: right;\n",
       "    }\n",
       "</style>\n",
       "<table border=\"1\" class=\"dataframe\">\n",
       "  <thead>\n",
       "    <tr style=\"text-align: right;\">\n",
       "      <th></th>\n",
       "      <th>sum_sq</th>\n",
       "      <th>df</th>\n",
       "      <th>F</th>\n",
       "      <th>PR(&gt;F)</th>\n",
       "    </tr>\n",
       "  </thead>\n",
       "  <tbody>\n",
       "    <tr>\n",
       "      <th>C(INTERNET_CASA)</th>\n",
       "      <td>5.207960e+05</td>\n",
       "      <td>1.0</td>\n",
       "      <td>71.318193</td>\n",
       "      <td>3.462651e-17</td>\n",
       "    </tr>\n",
       "    <tr>\n",
       "      <th>Residual</th>\n",
       "      <td>7.300967e+07</td>\n",
       "      <td>9998.0</td>\n",
       "      <td>NaN</td>\n",
       "      <td>NaN</td>\n",
       "    </tr>\n",
       "  </tbody>\n",
       "</table>\n",
       "</div>"
      ],
      "text/plain": [
       "                        sum_sq      df          F        PR(>F)\n",
       "C(INTERNET_CASA)  5.207960e+05     1.0  71.318193  3.462651e-17\n",
       "Residual          7.300967e+07  9998.0        NaN           NaN"
      ]
     },
     "metadata": {},
     "output_type": "display_data"
    },
    {
     "name": "stdout",
     "output_type": "stream",
     "text": [
      "NU_NOTA_MT ~ C(INTERNET_CASA)\n"
     ]
    },
    {
     "data": {
      "text/html": [
       "<div>\n",
       "<style scoped>\n",
       "    .dataframe tbody tr th:only-of-type {\n",
       "        vertical-align: middle;\n",
       "    }\n",
       "\n",
       "    .dataframe tbody tr th {\n",
       "        vertical-align: top;\n",
       "    }\n",
       "\n",
       "    .dataframe thead th {\n",
       "        text-align: right;\n",
       "    }\n",
       "</style>\n",
       "<table border=\"1\" class=\"dataframe\">\n",
       "  <thead>\n",
       "    <tr style=\"text-align: right;\">\n",
       "      <th></th>\n",
       "      <th>sum_sq</th>\n",
       "      <th>df</th>\n",
       "      <th>F</th>\n",
       "      <th>PR(&gt;F)</th>\n",
       "    </tr>\n",
       "  </thead>\n",
       "  <tbody>\n",
       "    <tr>\n",
       "      <th>C(INTERNET_CASA)</th>\n",
       "      <td>1.571459e+06</td>\n",
       "      <td>1.0</td>\n",
       "      <td>98.10696</td>\n",
       "      <td>5.059057e-23</td>\n",
       "    </tr>\n",
       "    <tr>\n",
       "      <th>Residual</th>\n",
       "      <td>1.601461e+08</td>\n",
       "      <td>9998.0</td>\n",
       "      <td>NaN</td>\n",
       "      <td>NaN</td>\n",
       "    </tr>\n",
       "  </tbody>\n",
       "</table>\n",
       "</div>"
      ],
      "text/plain": [
       "                        sum_sq      df         F        PR(>F)\n",
       "C(INTERNET_CASA)  1.571459e+06     1.0  98.10696  5.059057e-23\n",
       "Residual          1.601461e+08  9998.0       NaN           NaN"
      ]
     },
     "metadata": {},
     "output_type": "display_data"
    },
    {
     "name": "stdout",
     "output_type": "stream",
     "text": [
      "NU_NOTA_LC ~ C(INTERNET_CASA)\n"
     ]
    },
    {
     "data": {
      "text/html": [
       "<div>\n",
       "<style scoped>\n",
       "    .dataframe tbody tr th:only-of-type {\n",
       "        vertical-align: middle;\n",
       "    }\n",
       "\n",
       "    .dataframe tbody tr th {\n",
       "        vertical-align: top;\n",
       "    }\n",
       "\n",
       "    .dataframe thead th {\n",
       "        text-align: right;\n",
       "    }\n",
       "</style>\n",
       "<table border=\"1\" class=\"dataframe\">\n",
       "  <thead>\n",
       "    <tr style=\"text-align: right;\">\n",
       "      <th></th>\n",
       "      <th>sum_sq</th>\n",
       "      <th>df</th>\n",
       "      <th>F</th>\n",
       "      <th>PR(&gt;F)</th>\n",
       "    </tr>\n",
       "  </thead>\n",
       "  <tbody>\n",
       "    <tr>\n",
       "      <th>C(INTERNET_CASA)</th>\n",
       "      <td>3.611817e+05</td>\n",
       "      <td>1.0</td>\n",
       "      <td>85.270963</td>\n",
       "      <td>3.130277e-20</td>\n",
       "    </tr>\n",
       "    <tr>\n",
       "      <th>Residual</th>\n",
       "      <td>4.234847e+07</td>\n",
       "      <td>9998.0</td>\n",
       "      <td>NaN</td>\n",
       "      <td>NaN</td>\n",
       "    </tr>\n",
       "  </tbody>\n",
       "</table>\n",
       "</div>"
      ],
      "text/plain": [
       "                        sum_sq      df          F        PR(>F)\n",
       "C(INTERNET_CASA)  3.611817e+05     1.0  85.270963  3.130277e-20\n",
       "Residual          4.234847e+07  9998.0        NaN           NaN"
      ]
     },
     "metadata": {},
     "output_type": "display_data"
    },
    {
     "name": "stdout",
     "output_type": "stream",
     "text": [
      "NU_NOTA_REDACAO ~ C(INTERNET_CASA)\n"
     ]
    },
    {
     "data": {
      "text/html": [
       "<div>\n",
       "<style scoped>\n",
       "    .dataframe tbody tr th:only-of-type {\n",
       "        vertical-align: middle;\n",
       "    }\n",
       "\n",
       "    .dataframe tbody tr th {\n",
       "        vertical-align: top;\n",
       "    }\n",
       "\n",
       "    .dataframe thead th {\n",
       "        text-align: right;\n",
       "    }\n",
       "</style>\n",
       "<table border=\"1\" class=\"dataframe\">\n",
       "  <thead>\n",
       "    <tr style=\"text-align: right;\">\n",
       "      <th></th>\n",
       "      <th>sum_sq</th>\n",
       "      <th>df</th>\n",
       "      <th>F</th>\n",
       "      <th>PR(&gt;F)</th>\n",
       "    </tr>\n",
       "  </thead>\n",
       "  <tbody>\n",
       "    <tr>\n",
       "      <th>C(INTERNET_CASA)</th>\n",
       "      <td>2.671263e+06</td>\n",
       "      <td>1.0</td>\n",
       "      <td>85.763428</td>\n",
       "      <td>2.445344e-20</td>\n",
       "    </tr>\n",
       "    <tr>\n",
       "      <th>Residual</th>\n",
       "      <td>3.114065e+08</td>\n",
       "      <td>9998.0</td>\n",
       "      <td>NaN</td>\n",
       "      <td>NaN</td>\n",
       "    </tr>\n",
       "  </tbody>\n",
       "</table>\n",
       "</div>"
      ],
      "text/plain": [
       "                        sum_sq      df          F        PR(>F)\n",
       "C(INTERNET_CASA)  2.671263e+06     1.0  85.763428  2.445344e-20\n",
       "Residual          3.114065e+08  9998.0        NaN           NaN"
      ]
     },
     "metadata": {},
     "output_type": "display_data"
    }
   ],
   "source": [
    "anova_test_for_all_grades(df, [\"INTERNET_CASA\"])"
   ]
  }
 ],
 "metadata": {
  "kernelspec": {
   "display_name": "Python 3",
   "language": "python",
   "name": "python3"
  },
  "language_info": {
   "codemirror_mode": {
    "name": "ipython",
    "version": 3
   },
   "file_extension": ".py",
   "mimetype": "text/x-python",
   "name": "python",
   "nbconvert_exporter": "python",
   "pygments_lexer": "ipython3",
   "version": "3.11.2"
  }
 },
 "nbformat": 4,
 "nbformat_minor": 5
}
