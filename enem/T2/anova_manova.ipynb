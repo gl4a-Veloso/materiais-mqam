{
 "cells": [
  {
   "cell_type": "markdown",
   "id": "f1162b63",
   "metadata": {},
   "source": [
    "Importando bibliotecas"
   ]
  },
  {
   "cell_type": "code",
   "execution_count": null,
   "id": "895eade1",
   "metadata": {},
   "outputs": [],
   "source": [
    "import pandas as pd\n",
    "import statsmodels.api as sm\n",
    "from statsmodels.formula.api import ols\n",
    "from statsmodels.multivariate.manova import MANOVA"
   ]
  },
  {
   "cell_type": "markdown",
   "id": "d1558b59",
   "metadata": {},
   "source": [
    "Importando Base de Dados"
   ]
  },
  {
   "cell_type": "code",
   "execution_count": null,
   "id": "4de9ae5c",
   "metadata": {},
   "outputs": [],
   "source": [
    "df = pd.read_csv(\"../databases/ENEM_2023_FINAL_cat.csv\")\n",
    "display(df.sample(5))"
   ]
  },
  {
   "cell_type": "markdown",
   "id": "257b886a",
   "metadata": {},
   "source": [
    "Definindo funções que realizam testes de anova e manova"
   ]
  },
  {
   "cell_type": "code",
   "execution_count": null,
   "id": "ffe3f9fd",
   "metadata": {},
   "outputs": [],
   "source": [
    "def anova_test(df:pd.DataFrame, y_col:str, x_cols:list[str]):\n",
    "    ols_formula = f\"{y_col} ~ {' * '.join(f'C({item})' for item in x_cols)}\"\n",
    "    print(ols_formula)\n",
    "    ols_model = ols(formula=ols_formula, data=df).fit()\n",
    "    display(sm.stats.anova_lm(ols_model, typ=2))\n",
    "\n",
    "def anova_test_for_all_grades(df:pd.DataFrame, x_cols:list[str]):\n",
    "    grade_cols = [\"NU_NOTA_CH\", \"NU_NOTA_CN\", \"NU_NOTA_MT\", \"NU_NOTA_LC\", \"NU_NOTA_REDACAO\"]\n",
    "    for col in grade_cols:\n",
    "        anova_test(df, col, x_cols)\n",
    "\n",
    "def manova_test(df: pd.DataFrame, y_cols: list[str], x_cols: list[str]):\n",
    "    manova_formula = f\"{' + '.join(y_cols)} ~ {' + '.join(x_cols)}\"\n",
    "    manova_model = MANOVA.from_formula(manova_formula, data=df)\n",
    "    mv_results = manova_model.mv_test()\n",
    "    \n",
    "    dfs = {}\n",
    "    for factor, result in mv_results.results.items():\n",
    "        stat_df = pd.DataFrame(result['stat'])\n",
    "        stat_df.index.name = factor\n",
    "        dfs[factor] = stat_df.reset_index()\n",
    "    \n",
    "    for factor, df_factor in dfs.items():\n",
    "        display(df_factor)\n",
    "\n",
    "def manova_test_for_all_grades(df:pd.DataFrame, x_cols:list[str]):\n",
    "    grade_cols = [\"NU_NOTA_CH\", \"NU_NOTA_CN\", \"NU_NOTA_MT\", \"NU_NOTA_LC\", \"NU_NOTA_REDACAO\"]\n",
    "    manova_test(df, grade_cols, x_cols)\n",
    "    "
   ]
  },
  {
   "cell_type": "markdown",
   "id": "3caf1f71",
   "metadata": {},
   "source": [
    "ANOVA - Sexo por Notas"
   ]
  },
  {
   "cell_type": "code",
   "execution_count": null,
   "id": "37e0731c",
   "metadata": {},
   "outputs": [],
   "source": [
    "anova_test_for_all_grades(df, [\"TP_SEXO\"])"
   ]
  },
  {
   "cell_type": "markdown",
   "id": "2ed19720",
   "metadata": {},
   "source": [
    "ANOVA - Cor/raça por nota"
   ]
  },
  {
   "cell_type": "code",
   "execution_count": null,
   "id": "968e8dd7",
   "metadata": {},
   "outputs": [],
   "source": [
    "anova_test_for_all_grades(df, [\"TP_COR_RACA\"])"
   ]
  },
  {
   "cell_type": "markdown",
   "id": "d109b429",
   "metadata": {},
   "source": [
    "ANOVA - Escolaridade mãe e escolaridade pai por Notas"
   ]
  },
  {
   "cell_type": "code",
   "execution_count": null,
   "id": "700290fc",
   "metadata": {},
   "outputs": [],
   "source": [
    "anova_test_for_all_grades(df, [\"ESCOLARIDADE_MAE\", \"ESCOLARIDADE_PAI\"])"
   ]
  },
  {
   "cell_type": "markdown",
   "id": "fd595951",
   "metadata": {},
   "source": [
    "ANOVA - Dependencia da Escola por Nota"
   ]
  },
  {
   "cell_type": "code",
   "execution_count": null,
   "id": "f02715af",
   "metadata": {},
   "outputs": [],
   "source": [
    "anova_test_for_all_grades(df, [\"TP_DEPENDENCIA_ADM_ESC\"])"
   ]
  },
  {
   "cell_type": "markdown",
   "id": "27aa5856",
   "metadata": {},
   "source": [
    "ANOVA - Renda mensal casa por Notas"
   ]
  },
  {
   "cell_type": "code",
   "execution_count": null,
   "id": "d31d9007",
   "metadata": {},
   "outputs": [],
   "source": [
    "anova_test_for_all_grades(df, [\"RENDA_MENSAL_CASA\"])"
   ]
  },
  {
   "cell_type": "markdown",
   "id": "2d97fc34",
   "metadata": {},
   "source": [
    "ANOVA - Internet por Notas"
   ]
  },
  {
   "cell_type": "code",
   "execution_count": null,
   "id": "7db29cd7",
   "metadata": {},
   "outputs": [],
   "source": [
    "anova_test_for_all_grades(df, [\"INTERNET_CASA\"])"
   ]
  },
  {
   "cell_type": "markdown",
   "id": "dbdf2ed6",
   "metadata": {},
   "source": [
    "MANOVA - Sexo e cor/raça para notas"
   ]
  },
  {
   "cell_type": "code",
   "execution_count": null,
   "id": "3e84c369",
   "metadata": {},
   "outputs": [],
   "source": [
    "manova_test_for_all_grades(df, [\"TP_SEXO\", \"TP_COR_RACA\"])"
   ]
  },
  {
   "cell_type": "markdown",
   "id": "be937682",
   "metadata": {},
   "source": [
    "MANOVA - Notas por características familiares"
   ]
  },
  {
   "cell_type": "code",
   "execution_count": null,
   "id": "a0849e3f",
   "metadata": {},
   "outputs": [],
   "source": [
    "manova_test_for_all_grades(df, [\"ESCOLARIDADE_MAE\", \"ESCOLARIDADE_PAI\"])"
   ]
  },
  {
   "cell_type": "markdown",
   "id": "3e9eeba3",
   "metadata": {},
   "source": [
    "MANOVA - Notas e dispositivos na casa"
   ]
  },
  {
   "cell_type": "code",
   "execution_count": null,
   "id": "93be4ca2",
   "metadata": {},
   "outputs": [],
   "source": [
    "manova_test_for_all_grades(df, [\"N_CELULAR_CASA\", \"N_COMP_CASA\", \"INTERNET_CASA\"])"
   ]
  }
 ],
 "metadata": {
  "kernelspec": {
   "display_name": "Python 3",
   "language": "python",
   "name": "python3"
  },
  "language_info": {
   "codemirror_mode": {
    "name": "ipython",
    "version": 3
   },
   "file_extension": ".py",
   "mimetype": "text/x-python",
   "name": "python",
   "nbconvert_exporter": "python",
   "pygments_lexer": "ipython3",
   "version": "3.11.2"
  }
 },
 "nbformat": 4,
 "nbformat_minor": 5
}
