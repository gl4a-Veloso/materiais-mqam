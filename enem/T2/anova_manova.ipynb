{
 "cells": [
  {
   "cell_type": "markdown",
   "id": "f1162b63",
   "metadata": {},
   "source": [
    "Importando bibliotecas"
   ]
  },
  {
   "cell_type": "code",
   "execution_count": 1,
   "id": "895eade1",
   "metadata": {},
   "outputs": [],
   "source": [
    "import pandas as pd\n",
    "import statsmodels.api as sm\n",
    "from statsmodels.formula.api import ols\n",
    "from statsmodels.multivariate.manova import MANOVA"
   ]
  },
  {
   "cell_type": "markdown",
   "id": "d1558b59",
   "metadata": {},
   "source": [
    "Importando Base de Dados"
   ]
  },
  {
   "cell_type": "code",
   "execution_count": 2,
   "id": "4de9ae5c",
   "metadata": {},
   "outputs": [
    {
     "data": {
      "text/html": [
       "<div>\n",
       "<style scoped>\n",
       "    .dataframe tbody tr th:only-of-type {\n",
       "        vertical-align: middle;\n",
       "    }\n",
       "\n",
       "    .dataframe tbody tr th {\n",
       "        vertical-align: top;\n",
       "    }\n",
       "\n",
       "    .dataframe thead th {\n",
       "        text-align: right;\n",
       "    }\n",
       "</style>\n",
       "<table border=\"1\" class=\"dataframe\">\n",
       "  <thead>\n",
       "    <tr style=\"text-align: right;\">\n",
       "      <th></th>\n",
       "      <th>TP_SEXO</th>\n",
       "      <th>TP_COR_RACA</th>\n",
       "      <th>TP_DEPENDENCIA_ADM_ESC</th>\n",
       "      <th>NU_NOTA_CH</th>\n",
       "      <th>NU_NOTA_CN</th>\n",
       "      <th>NU_NOTA_MT</th>\n",
       "      <th>NU_NOTA_LC</th>\n",
       "      <th>NU_NOTA_REDACAO</th>\n",
       "      <th>ESCOLARIDADE_PAI</th>\n",
       "      <th>ESCOLARIDADE_MAE</th>\n",
       "      <th>N_PESSOAS_CASA</th>\n",
       "      <th>RENDA_MENSAL_CASA</th>\n",
       "      <th>N_CARRO_CASA</th>\n",
       "      <th>N_MOTO_CASA</th>\n",
       "      <th>N_CELULAR_CASA</th>\n",
       "      <th>N_COMP_CASA</th>\n",
       "      <th>INTERNET_CASA</th>\n",
       "      <th>EST_IDADE</th>\n",
       "    </tr>\n",
       "  </thead>\n",
       "  <tbody>\n",
       "    <tr>\n",
       "      <th>4615</th>\n",
       "      <td>Feminino</td>\n",
       "      <td>Branca</td>\n",
       "      <td>Privada</td>\n",
       "      <td>630.8</td>\n",
       "      <td>599.1</td>\n",
       "      <td>806.7</td>\n",
       "      <td>629.0</td>\n",
       "      <td>780.0</td>\n",
       "      <td>PG completo</td>\n",
       "      <td>PG incompleto</td>\n",
       "      <td>5</td>\n",
       "      <td>Até R$26400</td>\n",
       "      <td>Um</td>\n",
       "      <td>Nenhum</td>\n",
       "      <td>Quatro ou mais</td>\n",
       "      <td>Três</td>\n",
       "      <td>True</td>\n",
       "      <td>17.0</td>\n",
       "    </tr>\n",
       "    <tr>\n",
       "      <th>4836</th>\n",
       "      <td>Feminino</td>\n",
       "      <td>Branca</td>\n",
       "      <td>Privada</td>\n",
       "      <td>615.2</td>\n",
       "      <td>537.5</td>\n",
       "      <td>618.3</td>\n",
       "      <td>624.5</td>\n",
       "      <td>840.0</td>\n",
       "      <td>ES incompleto</td>\n",
       "      <td>ES incompleto</td>\n",
       "      <td>2</td>\n",
       "      <td>Até R$2640</td>\n",
       "      <td>Nenhum</td>\n",
       "      <td>Nenhum</td>\n",
       "      <td>Dois</td>\n",
       "      <td>Um</td>\n",
       "      <td>True</td>\n",
       "      <td>18.0</td>\n",
       "    </tr>\n",
       "    <tr>\n",
       "      <th>9234</th>\n",
       "      <td>Feminino</td>\n",
       "      <td>Parda</td>\n",
       "      <td>Privada</td>\n",
       "      <td>593.8</td>\n",
       "      <td>583.1</td>\n",
       "      <td>710.1</td>\n",
       "      <td>584.8</td>\n",
       "      <td>880.0</td>\n",
       "      <td>PG incompleto</td>\n",
       "      <td>PG completo</td>\n",
       "      <td>4</td>\n",
       "      <td>Até R$15840</td>\n",
       "      <td>Dois</td>\n",
       "      <td>Nenhum</td>\n",
       "      <td>Quatro ou mais</td>\n",
       "      <td>Dois</td>\n",
       "      <td>True</td>\n",
       "      <td>17.0</td>\n",
       "    </tr>\n",
       "    <tr>\n",
       "      <th>6857</th>\n",
       "      <td>Feminino</td>\n",
       "      <td>Branca</td>\n",
       "      <td>Estadual</td>\n",
       "      <td>558.5</td>\n",
       "      <td>485.8</td>\n",
       "      <td>361.6</td>\n",
       "      <td>561.9</td>\n",
       "      <td>640.0</td>\n",
       "      <td>EM incompleto</td>\n",
       "      <td>ES incompleto</td>\n",
       "      <td>4</td>\n",
       "      <td>Até R$5280</td>\n",
       "      <td>Um</td>\n",
       "      <td>Nenhum</td>\n",
       "      <td>Três</td>\n",
       "      <td>Um</td>\n",
       "      <td>True</td>\n",
       "      <td>18.0</td>\n",
       "    </tr>\n",
       "    <tr>\n",
       "      <th>8033</th>\n",
       "      <td>Feminino</td>\n",
       "      <td>Branca</td>\n",
       "      <td>Privada</td>\n",
       "      <td>523.5</td>\n",
       "      <td>458.0</td>\n",
       "      <td>598.8</td>\n",
       "      <td>438.8</td>\n",
       "      <td>560.0</td>\n",
       "      <td>PG completo</td>\n",
       "      <td>ES incompleto</td>\n",
       "      <td>3</td>\n",
       "      <td>Até R$2640</td>\n",
       "      <td>Nenhum</td>\n",
       "      <td>Nenhum</td>\n",
       "      <td>Três</td>\n",
       "      <td>Um</td>\n",
       "      <td>True</td>\n",
       "      <td>17.0</td>\n",
       "    </tr>\n",
       "  </tbody>\n",
       "</table>\n",
       "</div>"
      ],
      "text/plain": [
       "       TP_SEXO TP_COR_RACA TP_DEPENDENCIA_ADM_ESC  NU_NOTA_CH  NU_NOTA_CN  \\\n",
       "4615  Feminino      Branca                Privada       630.8       599.1   \n",
       "4836  Feminino      Branca                Privada       615.2       537.5   \n",
       "9234  Feminino       Parda                Privada       593.8       583.1   \n",
       "6857  Feminino      Branca               Estadual       558.5       485.8   \n",
       "8033  Feminino      Branca                Privada       523.5       458.0   \n",
       "\n",
       "      NU_NOTA_MT  NU_NOTA_LC  NU_NOTA_REDACAO ESCOLARIDADE_PAI  \\\n",
       "4615       806.7       629.0            780.0      PG completo   \n",
       "4836       618.3       624.5            840.0    ES incompleto   \n",
       "9234       710.1       584.8            880.0    PG incompleto   \n",
       "6857       361.6       561.9            640.0    EM incompleto   \n",
       "8033       598.8       438.8            560.0      PG completo   \n",
       "\n",
       "     ESCOLARIDADE_MAE  N_PESSOAS_CASA RENDA_MENSAL_CASA N_CARRO_CASA  \\\n",
       "4615    PG incompleto               5       Até R$26400           Um   \n",
       "4836    ES incompleto               2        Até R$2640       Nenhum   \n",
       "9234      PG completo               4       Até R$15840         Dois   \n",
       "6857    ES incompleto               4        Até R$5280           Um   \n",
       "8033    ES incompleto               3        Até R$2640       Nenhum   \n",
       "\n",
       "     N_MOTO_CASA  N_CELULAR_CASA N_COMP_CASA  INTERNET_CASA  EST_IDADE  \n",
       "4615      Nenhum  Quatro ou mais        Três           True       17.0  \n",
       "4836      Nenhum            Dois          Um           True       18.0  \n",
       "9234      Nenhum  Quatro ou mais        Dois           True       17.0  \n",
       "6857      Nenhum            Três          Um           True       18.0  \n",
       "8033      Nenhum            Três          Um           True       17.0  "
      ]
     },
     "metadata": {},
     "output_type": "display_data"
    }
   ],
   "source": [
    "df = pd.read_csv(\"../databases/ENEM_2023_FINAL_cat.csv\")\n",
    "display(df.sample(5))"
   ]
  },
  {
   "cell_type": "markdown",
   "id": "257b886a",
   "metadata": {},
   "source": [
    "Definindo funções que realizam testes de anova e manova"
   ]
  },
  {
   "cell_type": "code",
   "execution_count": null,
   "id": "ffe3f9fd",
   "metadata": {},
   "outputs": [],
   "source": [
    "def anova_test(df:pd.DataFrame, y_col:str, x_cols:list[str]):\n",
    "    ols_formula = f\"{y_col} ~ {' * '.join(f'C({item})' for item in x_cols)}\"\n",
    "    print(ols_formula)\n",
    "    ols_model = ols(formula=ols_formula, data=df).fit()\n",
    "    display(sm.stats.anova_lm(ols_model, typ=2))\n",
    "\n",
    "def anova_test_for_all_grades(df:pd.DataFrame, x_cols:list[str]):\n",
    "    grade_cols = [\"NU_NOTA_CH\", \"NU_NOTA_CN\", \"NU_NOTA_MT\", \"NU_NOTA_LC\", \"NU_NOTA_REDACAO\"]\n",
    "    for col in grade_cols:\n",
    "        anova_test(df, col, x_cols)\n",
    "        print(\"-\"*20)\n",
    "\n",
    "def manova_test(df: pd.DataFrame, y_cols: list[str], x_cols: list[str]):\n",
    "    manova_formula = f\"{' + '.join(y_cols)} ~ {' + '.join(x_cols)}\"\n",
    "    manova_model = MANOVA.from_formula(manova_formula, data=df)\n",
    "    mv_results = manova_model.mv_test()\n",
    "    \n",
    "    dfs = {}\n",
    "    for factor, result in mv_results.results.items():\n",
    "        stat_df = pd.DataFrame(result['stat'])\n",
    "        stat_df.index.name = factor\n",
    "        dfs[factor] = stat_df.reset_index()\n",
    "    \n",
    "    print(manova_formula)\n",
    "    for factor, df_factor in dfs.items():\n",
    "        display(df_factor)\n",
    "\n",
    "def manova_test_for_all_grades(df:pd.DataFrame, x_cols:list[str]):\n",
    "    grade_cols = [\"NU_NOTA_CH\", \"NU_NOTA_CN\", \"NU_NOTA_MT\", \"NU_NOTA_LC\", \"NU_NOTA_REDACAO\"]\n",
    "    manova_test(df, grade_cols, x_cols)\n",
    "    print(\"-\"*60)\n",
    "    "
   ]
  },
  {
   "cell_type": "markdown",
   "id": "3caf1f71",
   "metadata": {},
   "source": [
    "ANOVA - Sexo por Notas"
   ]
  },
  {
   "cell_type": "code",
   "execution_count": null,
   "id": "37e0731c",
   "metadata": {},
   "outputs": [],
   "source": [
    "anova_test_for_all_grades(df, [\"TP_SEXO\"])"
   ]
  },
  {
   "cell_type": "markdown",
   "id": "2ed19720",
   "metadata": {},
   "source": [
    "ANOVA - Cor/raça por nota"
   ]
  },
  {
   "cell_type": "code",
   "execution_count": null,
   "id": "968e8dd7",
   "metadata": {},
   "outputs": [],
   "source": [
    "anova_test_for_all_grades(df, [\"TP_COR_RACA\"])"
   ]
  },
  {
   "cell_type": "markdown",
   "id": "d109b429",
   "metadata": {},
   "source": [
    "ANOVA - Escolaridade mãe e escolaridade pai por Notas"
   ]
  },
  {
   "cell_type": "code",
   "execution_count": null,
   "id": "700290fc",
   "metadata": {},
   "outputs": [],
   "source": [
    "anova_test_for_all_grades(df, [\"ESCOLARIDADE_MAE\", \"ESCOLARIDADE_PAI\"])"
   ]
  },
  {
   "cell_type": "markdown",
   "id": "fd595951",
   "metadata": {},
   "source": [
    "ANOVA - Dependencia da Escola por Nota"
   ]
  },
  {
   "cell_type": "code",
   "execution_count": null,
   "id": "f02715af",
   "metadata": {},
   "outputs": [],
   "source": [
    "anova_test_for_all_grades(df, [\"TP_DEPENDENCIA_ADM_ESC\"])"
   ]
  },
  {
   "cell_type": "markdown",
   "id": "27aa5856",
   "metadata": {},
   "source": [
    "ANOVA - Renda mensal casa por Notas"
   ]
  },
  {
   "cell_type": "code",
   "execution_count": null,
   "id": "d31d9007",
   "metadata": {},
   "outputs": [],
   "source": [
    "anova_test_for_all_grades(df, [\"RENDA_MENSAL_CASA\"])"
   ]
  },
  {
   "cell_type": "markdown",
   "id": "2d97fc34",
   "metadata": {},
   "source": [
    "ANOVA - Internet por Notas"
   ]
  },
  {
   "cell_type": "code",
   "execution_count": null,
   "id": "7db29cd7",
   "metadata": {},
   "outputs": [],
   "source": [
    "anova_test_for_all_grades(df, [\"INTERNET_CASA\"])"
   ]
  },
  {
   "cell_type": "markdown",
   "id": "dbdf2ed6",
   "metadata": {},
   "source": [
    "MANOVA - Sexo e cor/raça para notas"
   ]
  },
  {
   "cell_type": "code",
   "execution_count": null,
   "id": "3e84c369",
   "metadata": {},
   "outputs": [],
   "source": [
    "manova_test_for_all_grades(df, [\"TP_SEXO\", \"TP_COR_RACA\"])"
   ]
  },
  {
   "cell_type": "markdown",
   "id": "be937682",
   "metadata": {},
   "source": [
    "MANOVA - Notas por características familiares"
   ]
  },
  {
   "cell_type": "code",
   "execution_count": null,
   "id": "a0849e3f",
   "metadata": {},
   "outputs": [],
   "source": [
    "manova_test_for_all_grades(df, [\"ESCOLARIDADE_MAE\", \"ESCOLARIDADE_PAI\"])"
   ]
  },
  {
   "cell_type": "markdown",
   "id": "3e9eeba3",
   "metadata": {},
   "source": [
    "MANOVA - Notas e dispositivos na casa"
   ]
  },
  {
   "cell_type": "code",
   "execution_count": null,
   "id": "93be4ca2",
   "metadata": {},
   "outputs": [],
   "source": [
    "manova_test_for_all_grades(df, [\"N_CELULAR_CASA\", \"N_COMP_CASA\", \"INTERNET_CASA\"])"
   ]
  }
 ],
 "metadata": {
  "kernelspec": {
   "display_name": "Python 3",
   "language": "python",
   "name": "python3"
  },
  "language_info": {
   "codemirror_mode": {
    "name": "ipython",
    "version": 3
   },
   "file_extension": ".py",
   "mimetype": "text/x-python",
   "name": "python",
   "nbconvert_exporter": "python",
   "pygments_lexer": "ipython3",
   "version": "3.13.6"
  }
 },
 "nbformat": 4,
 "nbformat_minor": 5
}
