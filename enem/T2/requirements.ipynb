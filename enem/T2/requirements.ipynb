{
 "cells": [
  {
   "cell_type": "markdown",
   "id": "50410692",
   "metadata": {},
   "source": [
    "Importando bibliotecas"
   ]
  },
  {
   "cell_type": "code",
   "execution_count": null,
   "id": "43695e4a",
   "metadata": {},
   "outputs": [],
   "source": [
    "import pandas as pd\n",
    "from scipy.stats import shapiro, kstest, jarque_bera, levene"
   ]
  },
  {
   "cell_type": "markdown",
   "id": "d59f071d",
   "metadata": {},
   "source": [
    "Importando base de dados categórica"
   ]
  },
  {
   "cell_type": "code",
   "execution_count": null,
   "id": "823f5393",
   "metadata": {},
   "outputs": [],
   "source": [
    "df = pd.read_csv(\"../databases/ENEM_2023_FINAL_cat.csv\")\n",
    "display(df)"
   ]
  },
  {
   "cell_type": "markdown",
   "id": "3de384ee",
   "metadata": {},
   "source": [
    "Definindo funções de testes para verificar os requisitos de ANOVA e MANOVA"
   ]
  },
  {
   "cell_type": "code",
   "execution_count": null,
   "id": "5f0367aa",
   "metadata": {},
   "outputs": [],
   "source": [
    "def sw_p_value(df:pd.DataFrame, col:str):\n",
    "    serie = df[col]\n",
    "    stat, p_value = shapiro(serie)\n",
    "    return p_value\n",
    "\n",
    "def ks_p_value(df:pd.DataFrame, col:str):\n",
    "    serie = df[col]\n",
    "    stat, p_value = kstest(serie, 'norm', args=(serie.mean(), serie.std(ddof=1)))\n",
    "    return p_value\n",
    "\n",
    "def jb_p_value(df:pd.DataFrame, col:str):\n",
    "    serie = df[col]\n",
    "    stat, p_value = jarque_bera(serie)\n",
    "    return p_value\n",
    "\n",
    "def levene_p_value(subs:list[pd.Series]):\n",
    "    stat, p_value = levene(*subs)\n",
    "    return p_value\n",
    "\n",
    "def anova_requests_category(sub: pd.DataFrame, cat:str, col: str):\n",
    "    return {\n",
    "        \"Categoria\": cat,\n",
    "        \"N\": len(sub),\n",
    "        \"Média\": sub[col].mean(),\n",
    "        \"Variância\": sub[col].var(ddof=1),\n",
    "        #\"SW P-Value\": sw_p_value(sub, col),\n",
    "        \"KS P-Value\": ks_p_value(sub, col),\n",
    "        \"JB P-Value\": jb_p_value(sub, col)\n",
    "    }\n",
    "\n",
    "def anova_requests(df:pd.DataFrame, category:str, col:str):\n",
    "    groups = []\n",
    "    results = []\n",
    "    for cat, sub in df.groupby(category):\n",
    "        groups.append(sub[col])\n",
    "        results.append(anova_requests_category(sub, cat, col))\n",
    "    \n",
    "    return pd.DataFrame(results), levene_p_value(groups)\n",
    "\n",
    "def all_grades_anova_requests(df:pd.DataFrame, category:str):\n",
    "    grade_cols = [\"NU_NOTA_CH\", \"NU_NOTA_CN\", \"NU_NOTA_MT\", \"NU_NOTA_LC\", \"NU_NOTA_REDACAO\"]\n",
    "    for col in grade_cols:\n",
    "        results, levene_p = anova_requests(df, category, col)\n",
    "        print(col)\n",
    "        display(results)\n",
    "        print(f\"Levene P-Value: {levene_p}\")\n",
    "        print(\"-\"*100)"
   ]
  },
  {
   "cell_type": "markdown",
   "id": "3e249664",
   "metadata": {},
   "source": [
    "Realizando testes de requisitos para sexo"
   ]
  },
  {
   "cell_type": "code",
   "execution_count": null,
   "id": "ff3bb11a",
   "metadata": {},
   "outputs": [],
   "source": [
    "all_grades_anova_requests(df, \"TP_SEXO\")"
   ]
  },
  {
   "cell_type": "markdown",
   "id": "a8896037",
   "metadata": {},
   "source": [
    "Realizando testes de requisitos para cor"
   ]
  },
  {
   "cell_type": "code",
   "execution_count": null,
   "id": "bbe34854",
   "metadata": {},
   "outputs": [],
   "source": [
    "all_grades_anova_requests(df, \"TP_COR_RACA\")"
   ]
  },
  {
   "cell_type": "markdown",
   "id": "1d8fe272",
   "metadata": {},
   "source": [
    "Realizando testes de requisitos para Escolaridade Mãe"
   ]
  },
  {
   "cell_type": "code",
   "execution_count": null,
   "id": "fa4024bf",
   "metadata": {},
   "outputs": [],
   "source": [
    "all_grades_anova_requests(df, \"ESCOLARIDADE_MAE\")"
   ]
  },
  {
   "cell_type": "markdown",
   "id": "0b6cf36c",
   "metadata": {},
   "source": [
    "Realizando testes de requisitos para Escolaridade Pai"
   ]
  },
  {
   "cell_type": "code",
   "execution_count": null,
   "id": "ec5bf346",
   "metadata": {},
   "outputs": [],
   "source": [
    "all_grades_anova_requests(df, \"ESCOLARIDADE_PAI\")"
   ]
  },
  {
   "cell_type": "markdown",
   "id": "2f5234f0",
   "metadata": {},
   "source": [
    "Realizando testes de requisitos para Dependência Administrativa da Escola"
   ]
  },
  {
   "cell_type": "code",
   "execution_count": null,
   "id": "4cae4a99",
   "metadata": {},
   "outputs": [],
   "source": [
    "all_grades_anova_requests(df, \"TP_DEPENDENCIA_ADM_ESC\")"
   ]
  },
  {
   "cell_type": "markdown",
   "id": "b98f40d3",
   "metadata": {},
   "source": [
    "Relizando testes de requisitos para Níveis de Renda"
   ]
  },
  {
   "cell_type": "code",
   "execution_count": null,
   "id": "8277a543",
   "metadata": {},
   "outputs": [],
   "source": [
    "all_grades_anova_requests(df, \"RENDA_MENSAL_CASA\")"
   ]
  },
  {
   "cell_type": "markdown",
   "id": "f2794615",
   "metadata": {},
   "source": [
    "Realizando testes de requisitos para internet na casa"
   ]
  },
  {
   "cell_type": "code",
   "execution_count": null,
   "id": "2be8bf61",
   "metadata": {},
   "outputs": [],
   "source": [
    "all_grades_anova_requests(df, \"INTERNET_CASA\")"
   ]
  }
 ],
 "metadata": {
  "kernelspec": {
   "display_name": "Python 3",
   "language": "python",
   "name": "python3"
  },
  "language_info": {
   "codemirror_mode": {
    "name": "ipython",
    "version": 3
   },
   "file_extension": ".py",
   "mimetype": "text/x-python",
   "name": "python",
   "nbconvert_exporter": "python",
   "pygments_lexer": "ipython3",
   "version": "3.11.2"
  }
 },
 "nbformat": 4,
 "nbformat_minor": 5
}
