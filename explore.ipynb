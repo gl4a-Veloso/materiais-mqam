{
 "cells": [
  {
   "cell_type": "code",
   "execution_count": null,
   "id": "5987c59a",
   "metadata": {},
   "outputs": [],
   "source": [
    "import pandas as pd"
   ]
  },
  {
   "cell_type": "markdown",
   "id": "f3cb98c1",
   "metadata": {},
   "source": [
    "Importando base de dados"
   ]
  },
  {
   "cell_type": "code",
   "execution_count": null,
   "id": "1bd05b8a",
   "metadata": {},
   "outputs": [],
   "source": [
    "df = pd.read_csv(\"student-db/student-merged.csv\")\n",
    "display(df)"
   ]
  },
  {
   "cell_type": "markdown",
   "id": "921f329c",
   "metadata": {},
   "source": [
    "Contagem de valores para variáveis categóricas"
   ]
  },
  {
   "cell_type": "code",
   "execution_count": null,
   "id": "530dc5a4",
   "metadata": {},
   "outputs": [],
   "source": [
    "display(df[\"school\"].value_counts())\n",
    "display(df[\"Pstatus\"].value_counts())\n",
    "display(df[\"paid_por\"].value_counts())\n",
    "display(df[\"paid_mat\"].value_counts())"
   ]
  },
  {
   "cell_type": "markdown",
   "id": "1dbcc8a1",
   "metadata": {},
   "source": [
    "Excluindo alunos da escola MS"
   ]
  },
  {
   "cell_type": "code",
   "execution_count": null,
   "id": "2a1e47f4",
   "metadata": {},
   "outputs": [],
   "source": [
    "def delete_MS_lines(df:pd.DataFrame):\n",
    "    filter = (df[\"school\"] == \"MS\")\n",
    "    return df.loc[~filter].reset_index(drop=True)\n",
    "\n",
    "df = delete_MS_lines(df)\n",
    "display(df)"
   ]
  },
  {
   "cell_type": "markdown",
   "id": "5219fb32",
   "metadata": {},
   "source": [
    "Excluindo colunas não selecionadas"
   ]
  },
  {
   "cell_type": "code",
   "execution_count": null,
   "id": "ff1233d5",
   "metadata": {},
   "outputs": [],
   "source": [
    "def drop_columns(df:pd.DataFrame):\n",
    "    mantain_columns = [\"sex\", \"age\", \"address\", \"internet\", \"Medu\", \"Fedu\", \"famrel\", \"health\", \"reason\", \"higher\", \"traveltime\", \"studytime\", \"paid_mat\", \"paid_por\", \"failures_mat\", \"failures_por\", \"absences_mat\", \"absences_por\",  \"G1_mat\", \"G1_por\", \"G2_mat\", \"G2_por\", \"G3_mat\", \"G3_por\"]\n",
    "    return df[mantain_columns]\n",
    "\n",
    "df = drop_columns(df)\n",
    "display(df)"
   ]
  },
  {
   "cell_type": "markdown",
   "id": "e8f761eb",
   "metadata": {},
   "source": [
    "Salvando dataframe consolidado"
   ]
  },
  {
   "cell_type": "code",
   "execution_count": null,
   "id": "bde57351",
   "metadata": {},
   "outputs": [],
   "source": [
    "df.to_csv(\"student-db/student-final.csv\", index=False)"
   ]
  }
 ],
 "metadata": {
  "kernelspec": {
   "display_name": "Python 3",
   "language": "python",
   "name": "python3"
  },
  "language_info": {
   "codemirror_mode": {
    "name": "ipython",
    "version": 3
   },
   "file_extension": ".py",
   "mimetype": "text/x-python",
   "name": "python",
   "nbconvert_exporter": "python",
   "pygments_lexer": "ipython3",
   "version": "3.11.2"
  }
 },
 "nbformat": 4,
 "nbformat_minor": 5
}
