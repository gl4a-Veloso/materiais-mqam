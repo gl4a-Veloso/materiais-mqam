{
 "cells": [
  {
   "cell_type": "code",
   "execution_count": null,
   "id": "7429aa19",
   "metadata": {},
   "outputs": [],
   "source": [
    "import pandas as pd"
   ]
  },
  {
   "cell_type": "markdown",
   "id": "03eec254",
   "metadata": {},
   "source": [
    "Unindo as tabelas de português e matemática"
   ]
  },
  {
   "cell_type": "code",
   "execution_count": null,
   "id": "2898865b",
   "metadata": {},
   "outputs": [],
   "source": [
    "def merged_database():\n",
    "    df_mat = pd.read_csv(\"student-db/student-mat.csv\", sep=\";\")\n",
    "    df_por = pd.read_csv(\"student-db/student-por.csv\", sep=\";\")\n",
    "\n",
    "    id_cols = [\"school\",\"sex\",\"age\",\"address\",\"famsize\",\"Pstatus\", \"Medu\",\"Fedu\",\"Mjob\",\"Fjob\",\"reason\",\"nursery\",\"internet\"]\n",
    "\n",
    "    return pd.merge(df_mat, df_por, on=id_cols, suffixes=(\"_mat\",\"_por\"))\n",
    "\n",
    "merged = merged_database()\n",
    "display(merged)"
   ]
  },
  {
   "cell_type": "markdown",
   "id": "dcaaf0a1",
   "metadata": {},
   "source": [
    "Comparando divergências entre campos que assumimos como iguais"
   ]
  },
  {
   "cell_type": "code",
   "execution_count": null,
   "id": "443304e6",
   "metadata": {},
   "outputs": [],
   "source": [
    "def compare_duplicate_columns(merged: pd.DataFrame):\n",
    "    diff_report = []\n",
    "\n",
    "    dup_cols = [c.replace(\"_mat\", \"\") for c in merged.columns if c.endswith(\"_mat\")]\n",
    "\n",
    "    for col in dup_cols:\n",
    "        col_mat = col + \"_mat\"\n",
    "        col_por = col + \"_por\"\n",
    "\n",
    "        one_null = merged[col_mat].isna() ^ merged[col_por].isna()   # XOR: só um é nulo\n",
    "        both_present_diff = (~merged[col_mat].isna() & ~merged[col_por].isna()) & (merged[col_mat] != merged[col_por])\n",
    "\n",
    "        diff_report.append({\n",
    "            \"coluna\": col,\n",
    "            \"total_diferencas\": one_null.sum() + both_present_diff.sum(),\n",
    "            \"valores_distintos\": both_present_diff.sum(),\n",
    "        })\n",
    "\n",
    "    return pd.DataFrame(diff_report)\n",
    "\n",
    "comparation = compare_duplicate_columns(merged)\n",
    "display(comparation)"
   ]
  },
  {
   "cell_type": "markdown",
   "id": "0175ba75",
   "metadata": {},
   "source": [
    "Excluindo registros com divergências"
   ]
  },
  {
   "cell_type": "code",
   "execution_count": null,
   "id": "3e49fca2",
   "metadata": {},
   "outputs": [],
   "source": [
    "def delete_divergent_lines(merged:pd.DataFrame):\n",
    "    filter = (\n",
    "        (merged[\"studytime_por\"] != merged[\"studytime_mat\"]) |\n",
    "        (merged[\"traveltime_por\"] != merged[\"traveltime_mat\"]) |\n",
    "        (merged[\"freetime_por\"] != merged[\"freetime_mat\"]) |\n",
    "        (merged[\"famrel_por\"] != merged[\"famrel_mat\"]) |\n",
    "        (merged[\"famsup_por\"] != merged[\"famsup_mat\"]) |\n",
    "        (merged[\"schoolsup_por\"] != merged[\"schoolsup_mat\"]) |\n",
    "        (merged[\"health_por\"] != merged[\"health_mat\"]) |\n",
    "        (merged[\"goout_por\"] != merged[\"goout_mat\"]) |\n",
    "        (merged[\"romantic_por\"] != merged[\"romantic_mat\"]) |\n",
    "        (merged[\"activities_por\"] != merged[\"activities_mat\"]) |\n",
    "        (merged[\"Walc_por\"] != merged[\"Walc_mat\"]) |\n",
    "        (merged[\"Dalc_por\"] != merged[\"Dalc_mat\"]) |\n",
    "        (merged[\"guardian_por\"] != merged[\"guardian_mat\"]) |\n",
    "        (merged[\"higher_por\"] != merged[\"higher_mat\"])\n",
    "    )\n",
    "    return merged.loc[~filter].reset_index(drop=True)\n",
    "\n",
    "merged = delete_divergent_lines(merged)\n",
    "display(merged)"
   ]
  },
  {
   "cell_type": "markdown",
   "id": "0d28c215",
   "metadata": {},
   "source": [
    "Excluindo colunas redundantes"
   ]
  },
  {
   "cell_type": "code",
   "execution_count": null,
   "id": "d5b8dba5",
   "metadata": {},
   "outputs": [],
   "source": [
    "def drop_redundant_columns(merged: pd.DataFrame):\n",
    "    redundant_columns = [\"studytime_por\", \"traveltime_por\", \"freetime_por\", \"famrel_por\", \"famsup_por\", \"schoolsup_por\", \"health_por\", \"goout_por\", \"romantic_por\", \"activities_por\", \"Walc_por\", \"Dalc_por\", \"guardian_por\", \"higher_por\"]\n",
    "    return merged.drop(columns=redundant_columns)\n",
    "\n",
    "merged = drop_redundant_columns(merged)\n",
    "display(merged)"
   ]
  },
  {
   "cell_type": "markdown",
   "id": "67d80893",
   "metadata": {},
   "source": [
    "Renomemando colunas que se aplicam tanto para português quanto para matemática"
   ]
  },
  {
   "cell_type": "code",
   "execution_count": null,
   "id": "26b4e2dd",
   "metadata": {},
   "outputs": [],
   "source": [
    "def rename_columns(merged:pd.DataFrame):\n",
    "    cols_to_rename = [\n",
    "        \"studytime_mat\", \"traveltime_mat\", \"freetime_mat\", \"famrel_mat\", \"famsup_mat\", \"schoolsup_mat\", \"health_mat\", \"goout_mat\", \"romantic_mat\", \"activities_mat\", \"Walc_mat\", \"Dalc_mat\", \"guardian_mat\", \"higher_mat\"\n",
    "    ]\n",
    "    \n",
    "    rename_dict = {col: col.replace(\"_mat\", \"\") for col in cols_to_rename}\n",
    "    return merged.rename(columns=rename_dict)\n",
    "\n",
    "merged = rename_columns(merged)\n",
    "display(merged)"
   ]
  },
  {
   "cell_type": "markdown",
   "id": "99c7584c",
   "metadata": {},
   "source": [
    "Salvando dataframe em arquivo student.csv"
   ]
  },
  {
   "cell_type": "code",
   "execution_count": null,
   "id": "98fe0b79",
   "metadata": {},
   "outputs": [],
   "source": [
    "merged.to_csv(\"student-db/student.csv\", index=False)"
   ]
  }
 ],
 "metadata": {
  "kernelspec": {
   "display_name": "Python 3",
   "language": "python",
   "name": "python3"
  },
  "language_info": {
   "codemirror_mode": {
    "name": "ipython",
    "version": 3
   },
   "file_extension": ".py",
   "mimetype": "text/x-python",
   "name": "python",
   "nbconvert_exporter": "python",
   "pygments_lexer": "ipython3",
   "version": "3.11.2"
  }
 },
 "nbformat": 4,
 "nbformat_minor": 5
}
